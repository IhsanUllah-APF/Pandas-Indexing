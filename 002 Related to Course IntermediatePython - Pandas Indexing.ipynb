{
 "cells": [
  {
   "cell_type": "code",
   "execution_count": 1,
   "id": "1daf7dbe-31be-43bf-9c97-28b039fe78d5",
   "metadata": {},
   "outputs": [],
   "source": [
    "import pandas as pd"
   ]
  },
  {
   "cell_type": "code",
   "execution_count": 2,
   "id": "787733a8-de81-4072-8f05-bc88cc358f16",
   "metadata": {},
   "outputs": [],
   "source": [
    "my_dic = {'country':   ['Afghanistan', 'United Kingdom', 'Japan', 'China', 'Pakistan', 'India'],\n",
    "         'language':   ['Pushto', 'English', 'Japanese', 'Chinese', 'Urdu', 'Hindi'],\n",
    "         'population': [10, 20, 30, 40, 50, 60],\n",
    "         'gdp':        [100, 200, 300, 400, 500, 600],\n",
    "         'continent':  ['Asia', 'Europe', 'East Asia', 'East Asia', 'Asia', 'Asia'],\n",
    "         }"
   ]
  },
  {
   "cell_type": "code",
   "execution_count": 3,
   "id": "1694e737-c28c-4f30-af6a-19327e3f65a4",
   "metadata": {},
   "outputs": [
    {
     "data": {
      "text/html": [
       "<div>\n",
       "<style scoped>\n",
       "    .dataframe tbody tr th:only-of-type {\n",
       "        vertical-align: middle;\n",
       "    }\n",
       "\n",
       "    .dataframe tbody tr th {\n",
       "        vertical-align: top;\n",
       "    }\n",
       "\n",
       "    .dataframe thead th {\n",
       "        text-align: right;\n",
       "    }\n",
       "</style>\n",
       "<table border=\"1\" class=\"dataframe\">\n",
       "  <thead>\n",
       "    <tr style=\"text-align: right;\">\n",
       "      <th></th>\n",
       "      <th>country</th>\n",
       "      <th>language</th>\n",
       "      <th>population</th>\n",
       "      <th>gdp</th>\n",
       "      <th>continent</th>\n",
       "    </tr>\n",
       "  </thead>\n",
       "  <tbody>\n",
       "    <tr>\n",
       "      <th>af</th>\n",
       "      <td>Afghanistan</td>\n",
       "      <td>Pushto</td>\n",
       "      <td>10</td>\n",
       "      <td>100</td>\n",
       "      <td>Asia</td>\n",
       "    </tr>\n",
       "    <tr>\n",
       "      <th>uk</th>\n",
       "      <td>United Kingdom</td>\n",
       "      <td>English</td>\n",
       "      <td>20</td>\n",
       "      <td>200</td>\n",
       "      <td>Europe</td>\n",
       "    </tr>\n",
       "    <tr>\n",
       "      <th>jp</th>\n",
       "      <td>Japan</td>\n",
       "      <td>Japanese</td>\n",
       "      <td>30</td>\n",
       "      <td>300</td>\n",
       "      <td>East Asia</td>\n",
       "    </tr>\n",
       "    <tr>\n",
       "      <th>ch</th>\n",
       "      <td>China</td>\n",
       "      <td>Chinese</td>\n",
       "      <td>40</td>\n",
       "      <td>400</td>\n",
       "      <td>East Asia</td>\n",
       "    </tr>\n",
       "    <tr>\n",
       "      <th>pk</th>\n",
       "      <td>Pakistan</td>\n",
       "      <td>Urdu</td>\n",
       "      <td>50</td>\n",
       "      <td>500</td>\n",
       "      <td>Asia</td>\n",
       "    </tr>\n",
       "    <tr>\n",
       "      <th>ind</th>\n",
       "      <td>India</td>\n",
       "      <td>Hindi</td>\n",
       "      <td>60</td>\n",
       "      <td>600</td>\n",
       "      <td>Asia</td>\n",
       "    </tr>\n",
       "  </tbody>\n",
       "</table>\n",
       "</div>"
      ],
      "text/plain": [
       "            country  language  population  gdp  continent\n",
       "af      Afghanistan    Pushto          10  100       Asia\n",
       "uk   United Kingdom   English          20  200     Europe\n",
       "jp            Japan  Japanese          30  300  East Asia\n",
       "ch            China   Chinese          40  400  East Asia\n",
       "pk         Pakistan      Urdu          50  500       Asia\n",
       "ind           India     Hindi          60  600       Asia"
      ]
     },
     "execution_count": 3,
     "metadata": {},
     "output_type": "execute_result"
    }
   ],
   "source": [
    "df = pd.DataFrame(my_dic)\n",
    "df.index = ['af', 'uk', 'jp', 'ch', 'pk', 'ind']\n",
    "df"
   ]
  },
  {
   "cell_type": "markdown",
   "id": "179d4e13-51d8-4d7a-9eba-1de646c200ff",
   "metadata": {},
   "source": [
    "# 1. Square Baracket:"
   ]
  },
  {
   "cell_type": "markdown",
   "id": "35c9910d-874b-489b-9498-aaa8ac6d4ded",
   "metadata": {},
   "source": [
    "## 1.1. Access Columns Only:"
   ]
  },
  {
   "cell_type": "code",
   "execution_count": 4,
   "id": "fbf21cfa-071e-4744-bd88-beb18178c64c",
   "metadata": {},
   "outputs": [
    {
     "data": {
      "text/plain": [
       "af        Afghanistan\n",
       "uk     United Kingdom\n",
       "jp              Japan\n",
       "ch              China\n",
       "pk           Pakistan\n",
       "ind             India\n",
       "Name: country, dtype: object"
      ]
     },
     "execution_count": 4,
     "metadata": {},
     "output_type": "execute_result"
    }
   ],
   "source": [
    "df['country']   # returns column, country, as an object of class/type, Pandas Series as shown below."
   ]
  },
  {
   "cell_type": "code",
   "execution_count": 5,
   "id": "bee3b564-89bb-421d-b549-54abf0700678",
   "metadata": {},
   "outputs": [
    {
     "name": "stdout",
     "output_type": "stream",
     "text": [
      "<class 'pandas.core.series.Series'>\n"
     ]
    }
   ],
   "source": [
    "print(type(df['country'])) # df['country'] is an object of this class, like saleem is an object of Human\n",
    "                # class. All the methods and attributes of this class, pandas.core.series.Series, can be \n",
    "                # called on this object through dot operator as, df['country'].method/attribute."
   ]
  },
  {
   "cell_type": "code",
   "execution_count": 6,
   "id": "8f170d51-d146-4275-bb8b-4a70aae73210",
   "metadata": {},
   "outputs": [
    {
     "data": {
      "text/html": [
       "<div>\n",
       "<style scoped>\n",
       "    .dataframe tbody tr th:only-of-type {\n",
       "        vertical-align: middle;\n",
       "    }\n",
       "\n",
       "    .dataframe tbody tr th {\n",
       "        vertical-align: top;\n",
       "    }\n",
       "\n",
       "    .dataframe thead th {\n",
       "        text-align: right;\n",
       "    }\n",
       "</style>\n",
       "<table border=\"1\" class=\"dataframe\">\n",
       "  <thead>\n",
       "    <tr style=\"text-align: right;\">\n",
       "      <th></th>\n",
       "      <th>country</th>\n",
       "    </tr>\n",
       "  </thead>\n",
       "  <tbody>\n",
       "    <tr>\n",
       "      <th>af</th>\n",
       "      <td>Afghanistan</td>\n",
       "    </tr>\n",
       "    <tr>\n",
       "      <th>uk</th>\n",
       "      <td>United Kingdom</td>\n",
       "    </tr>\n",
       "    <tr>\n",
       "      <th>jp</th>\n",
       "      <td>Japan</td>\n",
       "    </tr>\n",
       "    <tr>\n",
       "      <th>ch</th>\n",
       "      <td>China</td>\n",
       "    </tr>\n",
       "    <tr>\n",
       "      <th>pk</th>\n",
       "      <td>Pakistan</td>\n",
       "    </tr>\n",
       "    <tr>\n",
       "      <th>ind</th>\n",
       "      <td>India</td>\n",
       "    </tr>\n",
       "  </tbody>\n",
       "</table>\n",
       "</div>"
      ],
      "text/plain": [
       "            country\n",
       "af      Afghanistan\n",
       "uk   United Kingdom\n",
       "jp            Japan\n",
       "ch            China\n",
       "pk         Pakistan\n",
       "ind           India"
      ]
     },
     "execution_count": 6,
     "metadata": {},
     "output_type": "execute_result"
    }
   ],
   "source": [
    "df[['country']] # returns column, country, as an object of class/type, Pandas DataFrame as shown below."
   ]
  },
  {
   "cell_type": "code",
   "execution_count": 7,
   "id": "464d5169-716f-46e9-a585-91372fa39b04",
   "metadata": {},
   "outputs": [
    {
     "name": "stdout",
     "output_type": "stream",
     "text": [
      "<class 'pandas.core.frame.DataFrame'>\n"
     ]
    }
   ],
   "source": [
    "print(type(df[['country']])) # df[['country']] is an object of this class, like saleem is object of Human\n",
    "                # class. All the methods and attributes of this class, pandas.core.frame.DataFrame, can be \n",
    "                # called on this object through dot operator as, df[['country']].method/attribute."
   ]
  },
  {
   "cell_type": "code",
   "execution_count": 8,
   "id": "b47813af-cedc-43ef-b775-dbb1dc684c49",
   "metadata": {},
   "outputs": [
    {
     "data": {
      "text/html": [
       "<div>\n",
       "<style scoped>\n",
       "    .dataframe tbody tr th:only-of-type {\n",
       "        vertical-align: middle;\n",
       "    }\n",
       "\n",
       "    .dataframe tbody tr th {\n",
       "        vertical-align: top;\n",
       "    }\n",
       "\n",
       "    .dataframe thead th {\n",
       "        text-align: right;\n",
       "    }\n",
       "</style>\n",
       "<table border=\"1\" class=\"dataframe\">\n",
       "  <thead>\n",
       "    <tr style=\"text-align: right;\">\n",
       "      <th></th>\n",
       "      <th>country</th>\n",
       "      <th>gdp</th>\n",
       "    </tr>\n",
       "  </thead>\n",
       "  <tbody>\n",
       "    <tr>\n",
       "      <th>af</th>\n",
       "      <td>Afghanistan</td>\n",
       "      <td>100</td>\n",
       "    </tr>\n",
       "    <tr>\n",
       "      <th>uk</th>\n",
       "      <td>United Kingdom</td>\n",
       "      <td>200</td>\n",
       "    </tr>\n",
       "    <tr>\n",
       "      <th>jp</th>\n",
       "      <td>Japan</td>\n",
       "      <td>300</td>\n",
       "    </tr>\n",
       "    <tr>\n",
       "      <th>ch</th>\n",
       "      <td>China</td>\n",
       "      <td>400</td>\n",
       "    </tr>\n",
       "    <tr>\n",
       "      <th>pk</th>\n",
       "      <td>Pakistan</td>\n",
       "      <td>500</td>\n",
       "    </tr>\n",
       "    <tr>\n",
       "      <th>ind</th>\n",
       "      <td>India</td>\n",
       "      <td>600</td>\n",
       "    </tr>\n",
       "  </tbody>\n",
       "</table>\n",
       "</div>"
      ],
      "text/plain": [
       "            country  gdp\n",
       "af      Afghanistan  100\n",
       "uk   United Kingdom  200\n",
       "jp            Japan  300\n",
       "ch            China  400\n",
       "pk         Pakistan  500\n",
       "ind           India  600"
      ]
     },
     "execution_count": 8,
     "metadata": {},
     "output_type": "execute_result"
    }
   ],
   "source": [
    "df[['country', 'gdp']] # A list of colums within a set of square brackets. Returns the selected columns as\n",
    "                       # a DataFrame object. Slicing (:) is not allowed."
   ]
  },
  {
   "cell_type": "markdown",
   "id": "47dda098-2294-47f7-9848-701d44387a87",
   "metadata": {},
   "source": [
    "## 1.2. Access Rows Only:"
   ]
  },
  {
   "cell_type": "code",
   "execution_count": 9,
   "id": "8849db3f-d09c-4932-804c-8466f444299a",
   "metadata": {},
   "outputs": [
    {
     "data": {
      "text/html": [
       "<div>\n",
       "<style scoped>\n",
       "    .dataframe tbody tr th:only-of-type {\n",
       "        vertical-align: middle;\n",
       "    }\n",
       "\n",
       "    .dataframe tbody tr th {\n",
       "        vertical-align: top;\n",
       "    }\n",
       "\n",
       "    .dataframe thead th {\n",
       "        text-align: right;\n",
       "    }\n",
       "</style>\n",
       "<table border=\"1\" class=\"dataframe\">\n",
       "  <thead>\n",
       "    <tr style=\"text-align: right;\">\n",
       "      <th></th>\n",
       "      <th>country</th>\n",
       "      <th>language</th>\n",
       "      <th>population</th>\n",
       "      <th>gdp</th>\n",
       "      <th>continent</th>\n",
       "    </tr>\n",
       "  </thead>\n",
       "  <tbody>\n",
       "    <tr>\n",
       "      <th>af</th>\n",
       "      <td>Afghanistan</td>\n",
       "      <td>Pushto</td>\n",
       "      <td>10</td>\n",
       "      <td>100</td>\n",
       "      <td>Asia</td>\n",
       "    </tr>\n",
       "    <tr>\n",
       "      <th>uk</th>\n",
       "      <td>United Kingdom</td>\n",
       "      <td>English</td>\n",
       "      <td>20</td>\n",
       "      <td>200</td>\n",
       "      <td>Europe</td>\n",
       "    </tr>\n",
       "    <tr>\n",
       "      <th>jp</th>\n",
       "      <td>Japan</td>\n",
       "      <td>Japanese</td>\n",
       "      <td>30</td>\n",
       "      <td>300</td>\n",
       "      <td>East Asia</td>\n",
       "    </tr>\n",
       "    <tr>\n",
       "      <th>ch</th>\n",
       "      <td>China</td>\n",
       "      <td>Chinese</td>\n",
       "      <td>40</td>\n",
       "      <td>400</td>\n",
       "      <td>East Asia</td>\n",
       "    </tr>\n",
       "    <tr>\n",
       "      <th>pk</th>\n",
       "      <td>Pakistan</td>\n",
       "      <td>Urdu</td>\n",
       "      <td>50</td>\n",
       "      <td>500</td>\n",
       "      <td>Asia</td>\n",
       "    </tr>\n",
       "    <tr>\n",
       "      <th>ind</th>\n",
       "      <td>India</td>\n",
       "      <td>Hindi</td>\n",
       "      <td>60</td>\n",
       "      <td>600</td>\n",
       "      <td>Asia</td>\n",
       "    </tr>\n",
       "  </tbody>\n",
       "</table>\n",
       "</div>"
      ],
      "text/plain": [
       "            country  language  population  gdp  continent\n",
       "af      Afghanistan    Pushto          10  100       Asia\n",
       "uk   United Kingdom   English          20  200     Europe\n",
       "jp            Japan  Japanese          30  300  East Asia\n",
       "ch            China   Chinese          40  400  East Asia\n",
       "pk         Pakistan      Urdu          50  500       Asia\n",
       "ind           India     Hindi          60  600       Asia"
      ]
     },
     "execution_count": 9,
     "metadata": {},
     "output_type": "execute_result"
    }
   ],
   "source": [
    "df"
   ]
  },
  {
   "cell_type": "code",
   "execution_count": 10,
   "id": "6448a472-00bd-4d7c-bc8d-4c8bdd39c76f",
   "metadata": {},
   "outputs": [
    {
     "data": {
      "text/html": [
       "<div>\n",
       "<style scoped>\n",
       "    .dataframe tbody tr th:only-of-type {\n",
       "        vertical-align: middle;\n",
       "    }\n",
       "\n",
       "    .dataframe tbody tr th {\n",
       "        vertical-align: top;\n",
       "    }\n",
       "\n",
       "    .dataframe thead th {\n",
       "        text-align: right;\n",
       "    }\n",
       "</style>\n",
       "<table border=\"1\" class=\"dataframe\">\n",
       "  <thead>\n",
       "    <tr style=\"text-align: right;\">\n",
       "      <th></th>\n",
       "      <th>country</th>\n",
       "      <th>language</th>\n",
       "      <th>population</th>\n",
       "      <th>gdp</th>\n",
       "      <th>continent</th>\n",
       "    </tr>\n",
       "  </thead>\n",
       "  <tbody>\n",
       "    <tr>\n",
       "      <th>af</th>\n",
       "      <td>Afghanistan</td>\n",
       "      <td>Pushto</td>\n",
       "      <td>10</td>\n",
       "      <td>100</td>\n",
       "      <td>Asia</td>\n",
       "    </tr>\n",
       "    <tr>\n",
       "      <th>uk</th>\n",
       "      <td>United Kingdom</td>\n",
       "      <td>English</td>\n",
       "      <td>20</td>\n",
       "      <td>200</td>\n",
       "      <td>Europe</td>\n",
       "    </tr>\n",
       "    <tr>\n",
       "      <th>jp</th>\n",
       "      <td>Japan</td>\n",
       "      <td>Japanese</td>\n",
       "      <td>30</td>\n",
       "      <td>300</td>\n",
       "      <td>East Asia</td>\n",
       "    </tr>\n",
       "    <tr>\n",
       "      <th>ch</th>\n",
       "      <td>China</td>\n",
       "      <td>Chinese</td>\n",
       "      <td>40</td>\n",
       "      <td>400</td>\n",
       "      <td>East Asia</td>\n",
       "    </tr>\n",
       "  </tbody>\n",
       "</table>\n",
       "</div>"
      ],
      "text/plain": [
       "           country  language  population  gdp  continent\n",
       "af     Afghanistan    Pushto          10  100       Asia\n",
       "uk  United Kingdom   English          20  200     Europe\n",
       "jp           Japan  Japanese          30  300  East Asia\n",
       "ch           China   Chinese          40  400  East Asia"
      ]
     },
     "execution_count": 10,
     "metadata": {},
     "output_type": "execute_result"
    }
   ],
   "source": [
    "df['af':'ch'] # Rows can be selected only through slicing (:) in this method. Row labels can be used for\n",
    "              # the selection. Two square brackets are not allowed. The end is not exclusive in row \n",
    "              # labels. Returns the selected rows as a DataFrame object inspite of single square brackets\n",
    "              # used in this method. "
   ]
  },
  {
   "cell_type": "code",
   "execution_count": 11,
   "id": "f82b231e-91b9-4756-9889-c4a1ff906e6d",
   "metadata": {},
   "outputs": [
    {
     "data": {
      "text/html": [
       "<div>\n",
       "<style scoped>\n",
       "    .dataframe tbody tr th:only-of-type {\n",
       "        vertical-align: middle;\n",
       "    }\n",
       "\n",
       "    .dataframe tbody tr th {\n",
       "        vertical-align: top;\n",
       "    }\n",
       "\n",
       "    .dataframe thead th {\n",
       "        text-align: right;\n",
       "    }\n",
       "</style>\n",
       "<table border=\"1\" class=\"dataframe\">\n",
       "  <thead>\n",
       "    <tr style=\"text-align: right;\">\n",
       "      <th></th>\n",
       "      <th>country</th>\n",
       "      <th>language</th>\n",
       "      <th>population</th>\n",
       "      <th>gdp</th>\n",
       "      <th>continent</th>\n",
       "    </tr>\n",
       "  </thead>\n",
       "  <tbody>\n",
       "    <tr>\n",
       "      <th>af</th>\n",
       "      <td>Afghanistan</td>\n",
       "      <td>Pushto</td>\n",
       "      <td>10</td>\n",
       "      <td>100</td>\n",
       "      <td>Asia</td>\n",
       "    </tr>\n",
       "    <tr>\n",
       "      <th>uk</th>\n",
       "      <td>United Kingdom</td>\n",
       "      <td>English</td>\n",
       "      <td>20</td>\n",
       "      <td>200</td>\n",
       "      <td>Europe</td>\n",
       "    </tr>\n",
       "    <tr>\n",
       "      <th>jp</th>\n",
       "      <td>Japan</td>\n",
       "      <td>Japanese</td>\n",
       "      <td>30</td>\n",
       "      <td>300</td>\n",
       "      <td>East Asia</td>\n",
       "    </tr>\n",
       "    <tr>\n",
       "      <th>ch</th>\n",
       "      <td>China</td>\n",
       "      <td>Chinese</td>\n",
       "      <td>40</td>\n",
       "      <td>400</td>\n",
       "      <td>East Asia</td>\n",
       "    </tr>\n",
       "  </tbody>\n",
       "</table>\n",
       "</div>"
      ],
      "text/plain": [
       "           country  language  population  gdp  continent\n",
       "af     Afghanistan    Pushto          10  100       Asia\n",
       "uk  United Kingdom   English          20  200     Europe\n",
       "jp           Japan  Japanese          30  300  East Asia\n",
       "ch           China   Chinese          40  400  East Asia"
      ]
     },
     "execution_count": 11,
     "metadata": {},
     "output_type": "execute_result"
    }
   ],
   "source": [
    "df[0:4] # row indexing works exactly the same way as row labels just above. All above points applied."
   ]
  },
  {
   "cell_type": "markdown",
   "id": "bd48a2d3-e65e-4a22-b1cd-4266be4d775e",
   "metadata": {},
   "source": [
    "# 2. loc: \n",
    "### label-based, used for selection of rows or columns or both.\n",
    "### Slicing is allowed in selecting rows only, columns only, and in selecting rows and columns both but only in single square brackets."
   ]
  },
  {
   "cell_type": "markdown",
   "id": "adec837a-c6ed-497b-b050-10d3fb2c0b73",
   "metadata": {},
   "source": [
    "## 2.1. Access Rows Only:"
   ]
  },
  {
   "cell_type": "code",
   "execution_count": 12,
   "id": "2d321ee6-54cb-41ae-a7b1-3a0c2866f1ae",
   "metadata": {},
   "outputs": [
    {
     "data": {
      "text/html": [
       "<div>\n",
       "<style scoped>\n",
       "    .dataframe tbody tr th:only-of-type {\n",
       "        vertical-align: middle;\n",
       "    }\n",
       "\n",
       "    .dataframe tbody tr th {\n",
       "        vertical-align: top;\n",
       "    }\n",
       "\n",
       "    .dataframe thead th {\n",
       "        text-align: right;\n",
       "    }\n",
       "</style>\n",
       "<table border=\"1\" class=\"dataframe\">\n",
       "  <thead>\n",
       "    <tr style=\"text-align: right;\">\n",
       "      <th></th>\n",
       "      <th>country</th>\n",
       "      <th>language</th>\n",
       "      <th>population</th>\n",
       "      <th>gdp</th>\n",
       "      <th>continent</th>\n",
       "    </tr>\n",
       "  </thead>\n",
       "  <tbody>\n",
       "    <tr>\n",
       "      <th>af</th>\n",
       "      <td>Afghanistan</td>\n",
       "      <td>Pushto</td>\n",
       "      <td>10</td>\n",
       "      <td>100</td>\n",
       "      <td>Asia</td>\n",
       "    </tr>\n",
       "    <tr>\n",
       "      <th>uk</th>\n",
       "      <td>United Kingdom</td>\n",
       "      <td>English</td>\n",
       "      <td>20</td>\n",
       "      <td>200</td>\n",
       "      <td>Europe</td>\n",
       "    </tr>\n",
       "    <tr>\n",
       "      <th>jp</th>\n",
       "      <td>Japan</td>\n",
       "      <td>Japanese</td>\n",
       "      <td>30</td>\n",
       "      <td>300</td>\n",
       "      <td>East Asia</td>\n",
       "    </tr>\n",
       "    <tr>\n",
       "      <th>ch</th>\n",
       "      <td>China</td>\n",
       "      <td>Chinese</td>\n",
       "      <td>40</td>\n",
       "      <td>400</td>\n",
       "      <td>East Asia</td>\n",
       "    </tr>\n",
       "    <tr>\n",
       "      <th>pk</th>\n",
       "      <td>Pakistan</td>\n",
       "      <td>Urdu</td>\n",
       "      <td>50</td>\n",
       "      <td>500</td>\n",
       "      <td>Asia</td>\n",
       "    </tr>\n",
       "    <tr>\n",
       "      <th>ind</th>\n",
       "      <td>India</td>\n",
       "      <td>Hindi</td>\n",
       "      <td>60</td>\n",
       "      <td>600</td>\n",
       "      <td>Asia</td>\n",
       "    </tr>\n",
       "  </tbody>\n",
       "</table>\n",
       "</div>"
      ],
      "text/plain": [
       "            country  language  population  gdp  continent\n",
       "af      Afghanistan    Pushto          10  100       Asia\n",
       "uk   United Kingdom   English          20  200     Europe\n",
       "jp            Japan  Japanese          30  300  East Asia\n",
       "ch            China   Chinese          40  400  East Asia\n",
       "pk         Pakistan      Urdu          50  500       Asia\n",
       "ind           India     Hindi          60  600       Asia"
      ]
     },
     "execution_count": 12,
     "metadata": {},
     "output_type": "execute_result"
    }
   ],
   "source": [
    "df"
   ]
  },
  {
   "cell_type": "code",
   "execution_count": 13,
   "id": "c35740d4-e7ef-49e6-8374-714d36ba1b6b",
   "metadata": {},
   "outputs": [
    {
     "data": {
      "text/html": [
       "<div>\n",
       "<style scoped>\n",
       "    .dataframe tbody tr th:only-of-type {\n",
       "        vertical-align: middle;\n",
       "    }\n",
       "\n",
       "    .dataframe tbody tr th {\n",
       "        vertical-align: top;\n",
       "    }\n",
       "\n",
       "    .dataframe thead th {\n",
       "        text-align: right;\n",
       "    }\n",
       "</style>\n",
       "<table border=\"1\" class=\"dataframe\">\n",
       "  <thead>\n",
       "    <tr style=\"text-align: right;\">\n",
       "      <th></th>\n",
       "      <th>country</th>\n",
       "      <th>language</th>\n",
       "      <th>population</th>\n",
       "      <th>gdp</th>\n",
       "      <th>continent</th>\n",
       "    </tr>\n",
       "  </thead>\n",
       "  <tbody>\n",
       "    <tr>\n",
       "      <th>af</th>\n",
       "      <td>Afghanistan</td>\n",
       "      <td>Pushto</td>\n",
       "      <td>10</td>\n",
       "      <td>100</td>\n",
       "      <td>Asia</td>\n",
       "    </tr>\n",
       "  </tbody>\n",
       "</table>\n",
       "</div>"
      ],
      "text/plain": [
       "        country language  population  gdp continent\n",
       "af  Afghanistan   Pushto          10  100      Asia"
      ]
     },
     "execution_count": 13,
     "metadata": {},
     "output_type": "execute_result"
    }
   ],
   "source": [
    "df.loc[['af']]     # Returns the selected row as a DataFrame object."
   ]
  },
  {
   "cell_type": "code",
   "execution_count": 14,
   "id": "58520f94-2ccf-4fb5-bd1f-34ca0f20d675",
   "metadata": {},
   "outputs": [
    {
     "data": {
      "text/html": [
       "<div>\n",
       "<style scoped>\n",
       "    .dataframe tbody tr th:only-of-type {\n",
       "        vertical-align: middle;\n",
       "    }\n",
       "\n",
       "    .dataframe tbody tr th {\n",
       "        vertical-align: top;\n",
       "    }\n",
       "\n",
       "    .dataframe thead th {\n",
       "        text-align: right;\n",
       "    }\n",
       "</style>\n",
       "<table border=\"1\" class=\"dataframe\">\n",
       "  <thead>\n",
       "    <tr style=\"text-align: right;\">\n",
       "      <th></th>\n",
       "      <th>country</th>\n",
       "      <th>language</th>\n",
       "      <th>population</th>\n",
       "      <th>gdp</th>\n",
       "      <th>continent</th>\n",
       "    </tr>\n",
       "  </thead>\n",
       "  <tbody>\n",
       "    <tr>\n",
       "      <th>af</th>\n",
       "      <td>Afghanistan</td>\n",
       "      <td>Pushto</td>\n",
       "      <td>10</td>\n",
       "      <td>100</td>\n",
       "      <td>Asia</td>\n",
       "    </tr>\n",
       "    <tr>\n",
       "      <th>ch</th>\n",
       "      <td>China</td>\n",
       "      <td>Chinese</td>\n",
       "      <td>40</td>\n",
       "      <td>400</td>\n",
       "      <td>East Asia</td>\n",
       "    </tr>\n",
       "    <tr>\n",
       "      <th>ind</th>\n",
       "      <td>India</td>\n",
       "      <td>Hindi</td>\n",
       "      <td>60</td>\n",
       "      <td>600</td>\n",
       "      <td>Asia</td>\n",
       "    </tr>\n",
       "  </tbody>\n",
       "</table>\n",
       "</div>"
      ],
      "text/plain": [
       "         country language  population  gdp  continent\n",
       "af   Afghanistan   Pushto          10  100       Asia\n",
       "ch         China  Chinese          40  400  East Asia\n",
       "ind        India    Hindi          60  600       Asia"
      ]
     },
     "execution_count": 14,
     "metadata": {},
     "output_type": "execute_result"
    }
   ],
   "source": [
    "df.loc[['af', 'ch', 'ind']] # A list of row labels with in square brackets. Returns the selected rows as a \n",
    "                            # DataFrame object. Slicing is not allowed in double square brackets."
   ]
  },
  {
   "cell_type": "code",
   "execution_count": 15,
   "id": "a7773af1-37a1-4eeb-93ad-74ea7f369d1b",
   "metadata": {},
   "outputs": [
    {
     "data": {
      "text/html": [
       "<div>\n",
       "<style scoped>\n",
       "    .dataframe tbody tr th:only-of-type {\n",
       "        vertical-align: middle;\n",
       "    }\n",
       "\n",
       "    .dataframe tbody tr th {\n",
       "        vertical-align: top;\n",
       "    }\n",
       "\n",
       "    .dataframe thead th {\n",
       "        text-align: right;\n",
       "    }\n",
       "</style>\n",
       "<table border=\"1\" class=\"dataframe\">\n",
       "  <thead>\n",
       "    <tr style=\"text-align: right;\">\n",
       "      <th></th>\n",
       "      <th>country</th>\n",
       "      <th>language</th>\n",
       "      <th>population</th>\n",
       "      <th>gdp</th>\n",
       "      <th>continent</th>\n",
       "    </tr>\n",
       "  </thead>\n",
       "  <tbody>\n",
       "    <tr>\n",
       "      <th>af</th>\n",
       "      <td>Afghanistan</td>\n",
       "      <td>Pushto</td>\n",
       "      <td>10</td>\n",
       "      <td>100</td>\n",
       "      <td>Asia</td>\n",
       "    </tr>\n",
       "    <tr>\n",
       "      <th>uk</th>\n",
       "      <td>United Kingdom</td>\n",
       "      <td>English</td>\n",
       "      <td>20</td>\n",
       "      <td>200</td>\n",
       "      <td>Europe</td>\n",
       "    </tr>\n",
       "    <tr>\n",
       "      <th>jp</th>\n",
       "      <td>Japan</td>\n",
       "      <td>Japanese</td>\n",
       "      <td>30</td>\n",
       "      <td>300</td>\n",
       "      <td>East Asia</td>\n",
       "    </tr>\n",
       "    <tr>\n",
       "      <th>ch</th>\n",
       "      <td>China</td>\n",
       "      <td>Chinese</td>\n",
       "      <td>40</td>\n",
       "      <td>400</td>\n",
       "      <td>East Asia</td>\n",
       "    </tr>\n",
       "  </tbody>\n",
       "</table>\n",
       "</div>"
      ],
      "text/plain": [
       "           country  language  population  gdp  continent\n",
       "af     Afghanistan    Pushto          10  100       Asia\n",
       "uk  United Kingdom   English          20  200     Europe\n",
       "jp           Japan  Japanese          30  300  East Asia\n",
       "ch           China   Chinese          40  400  East Asia"
      ]
     },
     "execution_count": 15,
     "metadata": {},
     "output_type": "execute_result"
    }
   ],
   "source": [
    "df.loc['af':'ch']   # slicing allowed only in single square brackets with loc."
   ]
  },
  {
   "cell_type": "markdown",
   "id": "33a009ea-4f89-4c30-a496-104f5d9b9ef1",
   "metadata": {},
   "source": [
    "## 2.2. Access Columns Only:"
   ]
  },
  {
   "cell_type": "code",
   "execution_count": 16,
   "id": "9f568190-82a6-4c4f-9a92-558dab951b5b",
   "metadata": {},
   "outputs": [
    {
     "data": {
      "text/html": [
       "<div>\n",
       "<style scoped>\n",
       "    .dataframe tbody tr th:only-of-type {\n",
       "        vertical-align: middle;\n",
       "    }\n",
       "\n",
       "    .dataframe tbody tr th {\n",
       "        vertical-align: top;\n",
       "    }\n",
       "\n",
       "    .dataframe thead th {\n",
       "        text-align: right;\n",
       "    }\n",
       "</style>\n",
       "<table border=\"1\" class=\"dataframe\">\n",
       "  <thead>\n",
       "    <tr style=\"text-align: right;\">\n",
       "      <th></th>\n",
       "      <th>country</th>\n",
       "      <th>gdp</th>\n",
       "    </tr>\n",
       "  </thead>\n",
       "  <tbody>\n",
       "    <tr>\n",
       "      <th>af</th>\n",
       "      <td>Afghanistan</td>\n",
       "      <td>100</td>\n",
       "    </tr>\n",
       "    <tr>\n",
       "      <th>uk</th>\n",
       "      <td>United Kingdom</td>\n",
       "      <td>200</td>\n",
       "    </tr>\n",
       "    <tr>\n",
       "      <th>jp</th>\n",
       "      <td>Japan</td>\n",
       "      <td>300</td>\n",
       "    </tr>\n",
       "    <tr>\n",
       "      <th>ch</th>\n",
       "      <td>China</td>\n",
       "      <td>400</td>\n",
       "    </tr>\n",
       "    <tr>\n",
       "      <th>pk</th>\n",
       "      <td>Pakistan</td>\n",
       "      <td>500</td>\n",
       "    </tr>\n",
       "    <tr>\n",
       "      <th>ind</th>\n",
       "      <td>India</td>\n",
       "      <td>600</td>\n",
       "    </tr>\n",
       "  </tbody>\n",
       "</table>\n",
       "</div>"
      ],
      "text/plain": [
       "            country  gdp\n",
       "af      Afghanistan  100\n",
       "uk   United Kingdom  200\n",
       "jp            Japan  300\n",
       "ch            China  400\n",
       "pk         Pakistan  500\n",
       "ind           India  600"
      ]
     },
     "execution_count": 16,
     "metadata": {},
     "output_type": "execute_result"
    }
   ],
   "source": [
    "df.loc[:, ['country', 'gdp']] # Returns the selected columns for all rows (full columns) as a DataFrame\n",
    "                              # object. Row argument is compulsory in loc and column argument is optional \n",
    "                              # as seen just above in case of 'Access Rows only'.\n",
    "                              # Slicing not allowed in double square brackets but allowed in single square\n",
    "                              # brackets."
   ]
  },
  {
   "cell_type": "code",
   "execution_count": 17,
   "id": "6c3da7ac-393e-4d6d-a18a-fe55576a7ce6",
   "metadata": {},
   "outputs": [
    {
     "data": {
      "text/html": [
       "<div>\n",
       "<style scoped>\n",
       "    .dataframe tbody tr th:only-of-type {\n",
       "        vertical-align: middle;\n",
       "    }\n",
       "\n",
       "    .dataframe tbody tr th {\n",
       "        vertical-align: top;\n",
       "    }\n",
       "\n",
       "    .dataframe thead th {\n",
       "        text-align: right;\n",
       "    }\n",
       "</style>\n",
       "<table border=\"1\" class=\"dataframe\">\n",
       "  <thead>\n",
       "    <tr style=\"text-align: right;\">\n",
       "      <th></th>\n",
       "      <th>country</th>\n",
       "      <th>language</th>\n",
       "      <th>population</th>\n",
       "      <th>gdp</th>\n",
       "    </tr>\n",
       "  </thead>\n",
       "  <tbody>\n",
       "    <tr>\n",
       "      <th>af</th>\n",
       "      <td>Afghanistan</td>\n",
       "      <td>Pushto</td>\n",
       "      <td>10</td>\n",
       "      <td>100</td>\n",
       "    </tr>\n",
       "    <tr>\n",
       "      <th>uk</th>\n",
       "      <td>United Kingdom</td>\n",
       "      <td>English</td>\n",
       "      <td>20</td>\n",
       "      <td>200</td>\n",
       "    </tr>\n",
       "    <tr>\n",
       "      <th>jp</th>\n",
       "      <td>Japan</td>\n",
       "      <td>Japanese</td>\n",
       "      <td>30</td>\n",
       "      <td>300</td>\n",
       "    </tr>\n",
       "    <tr>\n",
       "      <th>ch</th>\n",
       "      <td>China</td>\n",
       "      <td>Chinese</td>\n",
       "      <td>40</td>\n",
       "      <td>400</td>\n",
       "    </tr>\n",
       "    <tr>\n",
       "      <th>pk</th>\n",
       "      <td>Pakistan</td>\n",
       "      <td>Urdu</td>\n",
       "      <td>50</td>\n",
       "      <td>500</td>\n",
       "    </tr>\n",
       "    <tr>\n",
       "      <th>ind</th>\n",
       "      <td>India</td>\n",
       "      <td>Hindi</td>\n",
       "      <td>60</td>\n",
       "      <td>600</td>\n",
       "    </tr>\n",
       "  </tbody>\n",
       "</table>\n",
       "</div>"
      ],
      "text/plain": [
       "            country  language  population  gdp\n",
       "af      Afghanistan    Pushto          10  100\n",
       "uk   United Kingdom   English          20  200\n",
       "jp            Japan  Japanese          30  300\n",
       "ch            China   Chinese          40  400\n",
       "pk         Pakistan      Urdu          50  500\n",
       "ind           India     Hindi          60  600"
      ]
     },
     "execution_count": 17,
     "metadata": {},
     "output_type": "execute_result"
    }
   ],
   "source": [
    "df.loc[:, 'country':'gdp'] # Returns the selected columns for all the rows (full columns) as a DataFrame\n",
    "                           # object. Slicing allowed only in single square brackets."
   ]
  },
  {
   "cell_type": "markdown",
   "id": "49ae6289-840d-4c6c-aa65-6d0280aaf243",
   "metadata": {},
   "source": [
    "## 2.3. Access Both Rows and Columns:"
   ]
  },
  {
   "cell_type": "code",
   "execution_count": 18,
   "id": "c6f08f57-1bab-431e-b9f0-3623fcf5f00c",
   "metadata": {},
   "outputs": [
    {
     "data": {
      "text/html": [
       "<div>\n",
       "<style scoped>\n",
       "    .dataframe tbody tr th:only-of-type {\n",
       "        vertical-align: middle;\n",
       "    }\n",
       "\n",
       "    .dataframe tbody tr th {\n",
       "        vertical-align: top;\n",
       "    }\n",
       "\n",
       "    .dataframe thead th {\n",
       "        text-align: right;\n",
       "    }\n",
       "</style>\n",
       "<table border=\"1\" class=\"dataframe\">\n",
       "  <thead>\n",
       "    <tr style=\"text-align: right;\">\n",
       "      <th></th>\n",
       "      <th>country</th>\n",
       "      <th>gdp</th>\n",
       "    </tr>\n",
       "  </thead>\n",
       "  <tbody>\n",
       "    <tr>\n",
       "      <th>af</th>\n",
       "      <td>Afghanistan</td>\n",
       "      <td>100</td>\n",
       "    </tr>\n",
       "  </tbody>\n",
       "</table>\n",
       "</div>"
      ],
      "text/plain": [
       "        country  gdp\n",
       "af  Afghanistan  100"
      ]
     },
     "execution_count": 18,
     "metadata": {},
     "output_type": "execute_result"
    }
   ],
   "source": [
    "df.loc[['af'],['country', 'gdp']] # A list of row labels before the seperating comma and a list of column \n",
    "                                  # labels after the seperating comma. Returns a DataFrame object. \n",
    "                                 # df.loc['af', ['country', 'gdp']] also works but returns a Series object.                 "
   ]
  },
  {
   "cell_type": "code",
   "execution_count": 19,
   "id": "66f69807-8464-4353-80e8-9332d2a29839",
   "metadata": {},
   "outputs": [
    {
     "data": {
      "text/html": [
       "<div>\n",
       "<style scoped>\n",
       "    .dataframe tbody tr th:only-of-type {\n",
       "        vertical-align: middle;\n",
       "    }\n",
       "\n",
       "    .dataframe tbody tr th {\n",
       "        vertical-align: top;\n",
       "    }\n",
       "\n",
       "    .dataframe thead th {\n",
       "        text-align: right;\n",
       "    }\n",
       "</style>\n",
       "<table border=\"1\" class=\"dataframe\">\n",
       "  <thead>\n",
       "    <tr style=\"text-align: right;\">\n",
       "      <th></th>\n",
       "      <th>country</th>\n",
       "      <th>gdp</th>\n",
       "    </tr>\n",
       "  </thead>\n",
       "  <tbody>\n",
       "    <tr>\n",
       "      <th>af</th>\n",
       "      <td>Afghanistan</td>\n",
       "      <td>100</td>\n",
       "    </tr>\n",
       "    <tr>\n",
       "      <th>ch</th>\n",
       "      <td>China</td>\n",
       "      <td>400</td>\n",
       "    </tr>\n",
       "    <tr>\n",
       "      <th>pk</th>\n",
       "      <td>Pakistan</td>\n",
       "      <td>500</td>\n",
       "    </tr>\n",
       "  </tbody>\n",
       "</table>\n",
       "</div>"
      ],
      "text/plain": [
       "        country  gdp\n",
       "af  Afghanistan  100\n",
       "ch        China  400\n",
       "pk     Pakistan  500"
      ]
     },
     "execution_count": 19,
     "metadata": {},
     "output_type": "execute_result"
    }
   ],
   "source": [
    "df.loc[['af','ch', 'pk'], ['country', 'gdp']] # Returns selected rows and columns as a DataFrame object."
   ]
  },
  {
   "cell_type": "code",
   "execution_count": 20,
   "id": "eace50f0-4df5-4ed7-8c65-77fa9e111719",
   "metadata": {},
   "outputs": [
    {
     "data": {
      "text/html": [
       "<div>\n",
       "<style scoped>\n",
       "    .dataframe tbody tr th:only-of-type {\n",
       "        vertical-align: middle;\n",
       "    }\n",
       "\n",
       "    .dataframe tbody tr th {\n",
       "        vertical-align: top;\n",
       "    }\n",
       "\n",
       "    .dataframe thead th {\n",
       "        text-align: right;\n",
       "    }\n",
       "</style>\n",
       "<table border=\"1\" class=\"dataframe\">\n",
       "  <thead>\n",
       "    <tr style=\"text-align: right;\">\n",
       "      <th></th>\n",
       "      <th>country</th>\n",
       "      <th>gdp</th>\n",
       "    </tr>\n",
       "  </thead>\n",
       "  <tbody>\n",
       "    <tr>\n",
       "      <th>af</th>\n",
       "      <td>Afghanistan</td>\n",
       "      <td>100</td>\n",
       "    </tr>\n",
       "    <tr>\n",
       "      <th>uk</th>\n",
       "      <td>United Kingdom</td>\n",
       "      <td>200</td>\n",
       "    </tr>\n",
       "    <tr>\n",
       "      <th>jp</th>\n",
       "      <td>Japan</td>\n",
       "      <td>300</td>\n",
       "    </tr>\n",
       "    <tr>\n",
       "      <th>ch</th>\n",
       "      <td>China</td>\n",
       "      <td>400</td>\n",
       "    </tr>\n",
       "  </tbody>\n",
       "</table>\n",
       "</div>"
      ],
      "text/plain": [
       "           country  gdp\n",
       "af     Afghanistan  100\n",
       "uk  United Kingdom  200\n",
       "jp           Japan  300\n",
       "ch           China  400"
      ]
     },
     "execution_count": 20,
     "metadata": {},
     "output_type": "execute_result"
    }
   ],
   "source": [
    "df.loc['af':'ch', ['country', 'gdp']]   # slicing allowed only in signle square brackets. Returns \n",
    "                                        # a DataFrame object."
   ]
  },
  {
   "cell_type": "code",
   "execution_count": 21,
   "id": "17f1534d-6a04-4da2-9802-1e45f977e0da",
   "metadata": {},
   "outputs": [
    {
     "data": {
      "text/html": [
       "<div>\n",
       "<style scoped>\n",
       "    .dataframe tbody tr th:only-of-type {\n",
       "        vertical-align: middle;\n",
       "    }\n",
       "\n",
       "    .dataframe tbody tr th {\n",
       "        vertical-align: top;\n",
       "    }\n",
       "\n",
       "    .dataframe thead th {\n",
       "        text-align: right;\n",
       "    }\n",
       "</style>\n",
       "<table border=\"1\" class=\"dataframe\">\n",
       "  <thead>\n",
       "    <tr style=\"text-align: right;\">\n",
       "      <th></th>\n",
       "      <th>country</th>\n",
       "      <th>language</th>\n",
       "      <th>population</th>\n",
       "      <th>gdp</th>\n",
       "    </tr>\n",
       "  </thead>\n",
       "  <tbody>\n",
       "    <tr>\n",
       "      <th>af</th>\n",
       "      <td>Afghanistan</td>\n",
       "      <td>Pushto</td>\n",
       "      <td>10</td>\n",
       "      <td>100</td>\n",
       "    </tr>\n",
       "    <tr>\n",
       "      <th>ch</th>\n",
       "      <td>China</td>\n",
       "      <td>Chinese</td>\n",
       "      <td>40</td>\n",
       "      <td>400</td>\n",
       "    </tr>\n",
       "  </tbody>\n",
       "</table>\n",
       "</div>"
      ],
      "text/plain": [
       "        country language  population  gdp\n",
       "af  Afghanistan   Pushto          10  100\n",
       "ch        China  Chinese          40  400"
      ]
     },
     "execution_count": 21,
     "metadata": {},
     "output_type": "execute_result"
    }
   ],
   "source": [
    "df.loc[['af', 'ch'], 'country':'gdp'] # slicing allowed only in single square brackets and returns the \n",
    "                                      # selected rows and columns as a DataFrame object."
   ]
  },
  {
   "cell_type": "code",
   "execution_count": 22,
   "id": "0f82ed7f-ef71-4dc3-9f95-d0ce58bf6714",
   "metadata": {},
   "outputs": [
    {
     "data": {
      "text/html": [
       "<div>\n",
       "<style scoped>\n",
       "    .dataframe tbody tr th:only-of-type {\n",
       "        vertical-align: middle;\n",
       "    }\n",
       "\n",
       "    .dataframe tbody tr th {\n",
       "        vertical-align: top;\n",
       "    }\n",
       "\n",
       "    .dataframe thead th {\n",
       "        text-align: right;\n",
       "    }\n",
       "</style>\n",
       "<table border=\"1\" class=\"dataframe\">\n",
       "  <thead>\n",
       "    <tr style=\"text-align: right;\">\n",
       "      <th></th>\n",
       "      <th>country</th>\n",
       "      <th>language</th>\n",
       "      <th>population</th>\n",
       "      <th>gdp</th>\n",
       "    </tr>\n",
       "  </thead>\n",
       "  <tbody>\n",
       "    <tr>\n",
       "      <th>af</th>\n",
       "      <td>Afghanistan</td>\n",
       "      <td>Pushto</td>\n",
       "      <td>10</td>\n",
       "      <td>100</td>\n",
       "    </tr>\n",
       "    <tr>\n",
       "      <th>uk</th>\n",
       "      <td>United Kingdom</td>\n",
       "      <td>English</td>\n",
       "      <td>20</td>\n",
       "      <td>200</td>\n",
       "    </tr>\n",
       "    <tr>\n",
       "      <th>jp</th>\n",
       "      <td>Japan</td>\n",
       "      <td>Japanese</td>\n",
       "      <td>30</td>\n",
       "      <td>300</td>\n",
       "    </tr>\n",
       "    <tr>\n",
       "      <th>ch</th>\n",
       "      <td>China</td>\n",
       "      <td>Chinese</td>\n",
       "      <td>40</td>\n",
       "      <td>400</td>\n",
       "    </tr>\n",
       "  </tbody>\n",
       "</table>\n",
       "</div>"
      ],
      "text/plain": [
       "           country  language  population  gdp\n",
       "af     Afghanistan    Pushto          10  100\n",
       "uk  United Kingdom   English          20  200\n",
       "jp           Japan  Japanese          30  300\n",
       "ch           China   Chinese          40  400"
      ]
     },
     "execution_count": 22,
     "metadata": {},
     "output_type": "execute_result"
    }
   ],
   "source": [
    "df.loc['af':'ch', 'country':'gdp'] # slicing allowed only in single square brackets & returns the selected\n",
    "                                   # rows and columns as a DataFrame object."
   ]
  },
  {
   "cell_type": "markdown",
   "id": "a33302ff-d520-4668-b311-23ec9cdf26b1",
   "metadata": {},
   "source": [
    "# 3. iloc:\n",
    "### integer index (position) based, used for selection of rows or columns or both.\n",
    "### Slicing is allowed in selecting rows only, columns only, and in selecting rows and columns both but only in single square brackets.\n",
    "### Returns a DataFrame object until mentioned otherwise in the code below.\n",
    "### No descriptions given in the code below to keep it simple. All the descriptions of the loc applies."
   ]
  },
  {
   "cell_type": "markdown",
   "id": "59962d33-10f6-451f-a48b-811ae3778432",
   "metadata": {},
   "source": [
    "## 3.1. Access Rows Only:"
   ]
  },
  {
   "cell_type": "code",
   "execution_count": 23,
   "id": "c947ad70-61ec-4538-b4ed-b1cda1143d27",
   "metadata": {},
   "outputs": [
    {
     "data": {
      "text/html": [
       "<div>\n",
       "<style scoped>\n",
       "    .dataframe tbody tr th:only-of-type {\n",
       "        vertical-align: middle;\n",
       "    }\n",
       "\n",
       "    .dataframe tbody tr th {\n",
       "        vertical-align: top;\n",
       "    }\n",
       "\n",
       "    .dataframe thead th {\n",
       "        text-align: right;\n",
       "    }\n",
       "</style>\n",
       "<table border=\"1\" class=\"dataframe\">\n",
       "  <thead>\n",
       "    <tr style=\"text-align: right;\">\n",
       "      <th></th>\n",
       "      <th>country</th>\n",
       "      <th>language</th>\n",
       "      <th>population</th>\n",
       "      <th>gdp</th>\n",
       "      <th>continent</th>\n",
       "    </tr>\n",
       "  </thead>\n",
       "  <tbody>\n",
       "    <tr>\n",
       "      <th>af</th>\n",
       "      <td>Afghanistan</td>\n",
       "      <td>Pushto</td>\n",
       "      <td>10</td>\n",
       "      <td>100</td>\n",
       "      <td>Asia</td>\n",
       "    </tr>\n",
       "    <tr>\n",
       "      <th>uk</th>\n",
       "      <td>United Kingdom</td>\n",
       "      <td>English</td>\n",
       "      <td>20</td>\n",
       "      <td>200</td>\n",
       "      <td>Europe</td>\n",
       "    </tr>\n",
       "    <tr>\n",
       "      <th>jp</th>\n",
       "      <td>Japan</td>\n",
       "      <td>Japanese</td>\n",
       "      <td>30</td>\n",
       "      <td>300</td>\n",
       "      <td>East Asia</td>\n",
       "    </tr>\n",
       "    <tr>\n",
       "      <th>ch</th>\n",
       "      <td>China</td>\n",
       "      <td>Chinese</td>\n",
       "      <td>40</td>\n",
       "      <td>400</td>\n",
       "      <td>East Asia</td>\n",
       "    </tr>\n",
       "    <tr>\n",
       "      <th>pk</th>\n",
       "      <td>Pakistan</td>\n",
       "      <td>Urdu</td>\n",
       "      <td>50</td>\n",
       "      <td>500</td>\n",
       "      <td>Asia</td>\n",
       "    </tr>\n",
       "    <tr>\n",
       "      <th>ind</th>\n",
       "      <td>India</td>\n",
       "      <td>Hindi</td>\n",
       "      <td>60</td>\n",
       "      <td>600</td>\n",
       "      <td>Asia</td>\n",
       "    </tr>\n",
       "  </tbody>\n",
       "</table>\n",
       "</div>"
      ],
      "text/plain": [
       "            country  language  population  gdp  continent\n",
       "af      Afghanistan    Pushto          10  100       Asia\n",
       "uk   United Kingdom   English          20  200     Europe\n",
       "jp            Japan  Japanese          30  300  East Asia\n",
       "ch            China   Chinese          40  400  East Asia\n",
       "pk         Pakistan      Urdu          50  500       Asia\n",
       "ind           India     Hindi          60  600       Asia"
      ]
     },
     "execution_count": 23,
     "metadata": {},
     "output_type": "execute_result"
    }
   ],
   "source": [
    "df"
   ]
  },
  {
   "cell_type": "code",
   "execution_count": 24,
   "id": "cda576d0-ee1a-4786-a04c-6772d7217222",
   "metadata": {},
   "outputs": [
    {
     "data": {
      "text/html": [
       "<div>\n",
       "<style scoped>\n",
       "    .dataframe tbody tr th:only-of-type {\n",
       "        vertical-align: middle;\n",
       "    }\n",
       "\n",
       "    .dataframe tbody tr th {\n",
       "        vertical-align: top;\n",
       "    }\n",
       "\n",
       "    .dataframe thead th {\n",
       "        text-align: right;\n",
       "    }\n",
       "</style>\n",
       "<table border=\"1\" class=\"dataframe\">\n",
       "  <thead>\n",
       "    <tr style=\"text-align: right;\">\n",
       "      <th></th>\n",
       "      <th>country</th>\n",
       "      <th>language</th>\n",
       "      <th>population</th>\n",
       "      <th>gdp</th>\n",
       "      <th>continent</th>\n",
       "    </tr>\n",
       "  </thead>\n",
       "  <tbody>\n",
       "    <tr>\n",
       "      <th>uk</th>\n",
       "      <td>United Kingdom</td>\n",
       "      <td>English</td>\n",
       "      <td>20</td>\n",
       "      <td>200</td>\n",
       "      <td>Europe</td>\n",
       "    </tr>\n",
       "  </tbody>\n",
       "</table>\n",
       "</div>"
      ],
      "text/plain": [
       "           country language  population  gdp continent\n",
       "uk  United Kingdom  English          20  200    Europe"
      ]
     },
     "execution_count": 24,
     "metadata": {},
     "output_type": "execute_result"
    }
   ],
   "source": [
    "df.iloc[[1]]  # df.iloc[1] returns Series object. No argument made for columns."
   ]
  },
  {
   "cell_type": "code",
   "execution_count": 25,
   "id": "ca78263b-36dc-41da-ada1-c0021c23319c",
   "metadata": {},
   "outputs": [
    {
     "data": {
      "text/html": [
       "<div>\n",
       "<style scoped>\n",
       "    .dataframe tbody tr th:only-of-type {\n",
       "        vertical-align: middle;\n",
       "    }\n",
       "\n",
       "    .dataframe tbody tr th {\n",
       "        vertical-align: top;\n",
       "    }\n",
       "\n",
       "    .dataframe thead th {\n",
       "        text-align: right;\n",
       "    }\n",
       "</style>\n",
       "<table border=\"1\" class=\"dataframe\">\n",
       "  <thead>\n",
       "    <tr style=\"text-align: right;\">\n",
       "      <th></th>\n",
       "      <th>country</th>\n",
       "      <th>language</th>\n",
       "      <th>population</th>\n",
       "      <th>gdp</th>\n",
       "      <th>continent</th>\n",
       "    </tr>\n",
       "  </thead>\n",
       "  <tbody>\n",
       "    <tr>\n",
       "      <th>uk</th>\n",
       "      <td>United Kingdom</td>\n",
       "      <td>English</td>\n",
       "      <td>20</td>\n",
       "      <td>200</td>\n",
       "      <td>Europe</td>\n",
       "    </tr>\n",
       "    <tr>\n",
       "      <th>ch</th>\n",
       "      <td>China</td>\n",
       "      <td>Chinese</td>\n",
       "      <td>40</td>\n",
       "      <td>400</td>\n",
       "      <td>East Asia</td>\n",
       "    </tr>\n",
       "    <tr>\n",
       "      <th>pk</th>\n",
       "      <td>Pakistan</td>\n",
       "      <td>Urdu</td>\n",
       "      <td>50</td>\n",
       "      <td>500</td>\n",
       "      <td>Asia</td>\n",
       "    </tr>\n",
       "  </tbody>\n",
       "</table>\n",
       "</div>"
      ],
      "text/plain": [
       "           country language  population  gdp  continent\n",
       "uk  United Kingdom  English          20  200     Europe\n",
       "ch           China  Chinese          40  400  East Asia\n",
       "pk        Pakistan     Urdu          50  500       Asia"
      ]
     },
     "execution_count": 25,
     "metadata": {},
     "output_type": "execute_result"
    }
   ],
   "source": [
    "df.iloc[[1, 3, 4]]"
   ]
  },
  {
   "cell_type": "code",
   "execution_count": 26,
   "id": "9883474c-85f2-44cc-95b2-11a9831313e7",
   "metadata": {},
   "outputs": [
    {
     "data": {
      "text/html": [
       "<div>\n",
       "<style scoped>\n",
       "    .dataframe tbody tr th:only-of-type {\n",
       "        vertical-align: middle;\n",
       "    }\n",
       "\n",
       "    .dataframe tbody tr th {\n",
       "        vertical-align: top;\n",
       "    }\n",
       "\n",
       "    .dataframe thead th {\n",
       "        text-align: right;\n",
       "    }\n",
       "</style>\n",
       "<table border=\"1\" class=\"dataframe\">\n",
       "  <thead>\n",
       "    <tr style=\"text-align: right;\">\n",
       "      <th></th>\n",
       "      <th>country</th>\n",
       "      <th>language</th>\n",
       "      <th>population</th>\n",
       "      <th>gdp</th>\n",
       "      <th>continent</th>\n",
       "    </tr>\n",
       "  </thead>\n",
       "  <tbody>\n",
       "    <tr>\n",
       "      <th>uk</th>\n",
       "      <td>United Kingdom</td>\n",
       "      <td>English</td>\n",
       "      <td>20</td>\n",
       "      <td>200</td>\n",
       "      <td>Europe</td>\n",
       "    </tr>\n",
       "    <tr>\n",
       "      <th>jp</th>\n",
       "      <td>Japan</td>\n",
       "      <td>Japanese</td>\n",
       "      <td>30</td>\n",
       "      <td>300</td>\n",
       "      <td>East Asia</td>\n",
       "    </tr>\n",
       "    <tr>\n",
       "      <th>ch</th>\n",
       "      <td>China</td>\n",
       "      <td>Chinese</td>\n",
       "      <td>40</td>\n",
       "      <td>400</td>\n",
       "      <td>East Asia</td>\n",
       "    </tr>\n",
       "  </tbody>\n",
       "</table>\n",
       "</div>"
      ],
      "text/plain": [
       "           country  language  population  gdp  continent\n",
       "uk  United Kingdom   English          20  200     Europe\n",
       "jp           Japan  Japanese          30  300  East Asia\n",
       "ch           China   Chinese          40  400  East Asia"
      ]
     },
     "execution_count": 26,
     "metadata": {},
     "output_type": "execute_result"
    }
   ],
   "source": [
    "df.iloc[1:4]  # the end is exclusive. "
   ]
  },
  {
   "cell_type": "markdown",
   "id": "e787022e-ba39-4f1c-b040-09d9082f04d0",
   "metadata": {},
   "source": [
    "## 3.2. Access Columns Only:"
   ]
  },
  {
   "cell_type": "code",
   "execution_count": 27,
   "id": "1b0c7452-434e-4877-93e9-2b45c1de538a",
   "metadata": {},
   "outputs": [
    {
     "data": {
      "text/html": [
       "<div>\n",
       "<style scoped>\n",
       "    .dataframe tbody tr th:only-of-type {\n",
       "        vertical-align: middle;\n",
       "    }\n",
       "\n",
       "    .dataframe tbody tr th {\n",
       "        vertical-align: top;\n",
       "    }\n",
       "\n",
       "    .dataframe thead th {\n",
       "        text-align: right;\n",
       "    }\n",
       "</style>\n",
       "<table border=\"1\" class=\"dataframe\">\n",
       "  <thead>\n",
       "    <tr style=\"text-align: right;\">\n",
       "      <th></th>\n",
       "      <th>country</th>\n",
       "    </tr>\n",
       "  </thead>\n",
       "  <tbody>\n",
       "    <tr>\n",
       "      <th>af</th>\n",
       "      <td>Afghanistan</td>\n",
       "    </tr>\n",
       "    <tr>\n",
       "      <th>uk</th>\n",
       "      <td>United Kingdom</td>\n",
       "    </tr>\n",
       "    <tr>\n",
       "      <th>jp</th>\n",
       "      <td>Japan</td>\n",
       "    </tr>\n",
       "    <tr>\n",
       "      <th>ch</th>\n",
       "      <td>China</td>\n",
       "    </tr>\n",
       "    <tr>\n",
       "      <th>pk</th>\n",
       "      <td>Pakistan</td>\n",
       "    </tr>\n",
       "    <tr>\n",
       "      <th>ind</th>\n",
       "      <td>India</td>\n",
       "    </tr>\n",
       "  </tbody>\n",
       "</table>\n",
       "</div>"
      ],
      "text/plain": [
       "            country\n",
       "af      Afghanistan\n",
       "uk   United Kingdom\n",
       "jp            Japan\n",
       "ch            China\n",
       "pk         Pakistan\n",
       "ind           India"
      ]
     },
     "execution_count": 27,
     "metadata": {},
     "output_type": "execute_result"
    }
   ],
   "source": [
    "df.iloc[:, [0]] # df.iloc[:, 0] returns Series object. A row argument is compulsory."
   ]
  },
  {
   "cell_type": "code",
   "execution_count": 28,
   "id": "6ddbc436-6f11-4058-80ca-fa83e6cfc089",
   "metadata": {},
   "outputs": [
    {
     "data": {
      "text/html": [
       "<div>\n",
       "<style scoped>\n",
       "    .dataframe tbody tr th:only-of-type {\n",
       "        vertical-align: middle;\n",
       "    }\n",
       "\n",
       "    .dataframe tbody tr th {\n",
       "        vertical-align: top;\n",
       "    }\n",
       "\n",
       "    .dataframe thead th {\n",
       "        text-align: right;\n",
       "    }\n",
       "</style>\n",
       "<table border=\"1\" class=\"dataframe\">\n",
       "  <thead>\n",
       "    <tr style=\"text-align: right;\">\n",
       "      <th></th>\n",
       "      <th>country</th>\n",
       "      <th>population</th>\n",
       "      <th>continent</th>\n",
       "    </tr>\n",
       "  </thead>\n",
       "  <tbody>\n",
       "    <tr>\n",
       "      <th>af</th>\n",
       "      <td>Afghanistan</td>\n",
       "      <td>10</td>\n",
       "      <td>Asia</td>\n",
       "    </tr>\n",
       "    <tr>\n",
       "      <th>uk</th>\n",
       "      <td>United Kingdom</td>\n",
       "      <td>20</td>\n",
       "      <td>Europe</td>\n",
       "    </tr>\n",
       "    <tr>\n",
       "      <th>jp</th>\n",
       "      <td>Japan</td>\n",
       "      <td>30</td>\n",
       "      <td>East Asia</td>\n",
       "    </tr>\n",
       "    <tr>\n",
       "      <th>ch</th>\n",
       "      <td>China</td>\n",
       "      <td>40</td>\n",
       "      <td>East Asia</td>\n",
       "    </tr>\n",
       "    <tr>\n",
       "      <th>pk</th>\n",
       "      <td>Pakistan</td>\n",
       "      <td>50</td>\n",
       "      <td>Asia</td>\n",
       "    </tr>\n",
       "    <tr>\n",
       "      <th>ind</th>\n",
       "      <td>India</td>\n",
       "      <td>60</td>\n",
       "      <td>Asia</td>\n",
       "    </tr>\n",
       "  </tbody>\n",
       "</table>\n",
       "</div>"
      ],
      "text/plain": [
       "            country  population  continent\n",
       "af      Afghanistan          10       Asia\n",
       "uk   United Kingdom          20     Europe\n",
       "jp            Japan          30  East Asia\n",
       "ch            China          40  East Asia\n",
       "pk         Pakistan          50       Asia\n",
       "ind           India          60       Asia"
      ]
     },
     "execution_count": 28,
     "metadata": {},
     "output_type": "execute_result"
    }
   ],
   "source": [
    "df.iloc[:, [0, 2, 4]] "
   ]
  },
  {
   "cell_type": "code",
   "execution_count": 29,
   "id": "5ad0aae5-1b1f-4537-a633-1894fb5fb089",
   "metadata": {},
   "outputs": [
    {
     "data": {
      "text/html": [
       "<div>\n",
       "<style scoped>\n",
       "    .dataframe tbody tr th:only-of-type {\n",
       "        vertical-align: middle;\n",
       "    }\n",
       "\n",
       "    .dataframe tbody tr th {\n",
       "        vertical-align: top;\n",
       "    }\n",
       "\n",
       "    .dataframe thead th {\n",
       "        text-align: right;\n",
       "    }\n",
       "</style>\n",
       "<table border=\"1\" class=\"dataframe\">\n",
       "  <thead>\n",
       "    <tr style=\"text-align: right;\">\n",
       "      <th></th>\n",
       "      <th>country</th>\n",
       "      <th>language</th>\n",
       "      <th>population</th>\n",
       "      <th>gdp</th>\n",
       "    </tr>\n",
       "  </thead>\n",
       "  <tbody>\n",
       "    <tr>\n",
       "      <th>af</th>\n",
       "      <td>Afghanistan</td>\n",
       "      <td>Pushto</td>\n",
       "      <td>10</td>\n",
       "      <td>100</td>\n",
       "    </tr>\n",
       "    <tr>\n",
       "      <th>uk</th>\n",
       "      <td>United Kingdom</td>\n",
       "      <td>English</td>\n",
       "      <td>20</td>\n",
       "      <td>200</td>\n",
       "    </tr>\n",
       "    <tr>\n",
       "      <th>jp</th>\n",
       "      <td>Japan</td>\n",
       "      <td>Japanese</td>\n",
       "      <td>30</td>\n",
       "      <td>300</td>\n",
       "    </tr>\n",
       "    <tr>\n",
       "      <th>ch</th>\n",
       "      <td>China</td>\n",
       "      <td>Chinese</td>\n",
       "      <td>40</td>\n",
       "      <td>400</td>\n",
       "    </tr>\n",
       "    <tr>\n",
       "      <th>pk</th>\n",
       "      <td>Pakistan</td>\n",
       "      <td>Urdu</td>\n",
       "      <td>50</td>\n",
       "      <td>500</td>\n",
       "    </tr>\n",
       "    <tr>\n",
       "      <th>ind</th>\n",
       "      <td>India</td>\n",
       "      <td>Hindi</td>\n",
       "      <td>60</td>\n",
       "      <td>600</td>\n",
       "    </tr>\n",
       "  </tbody>\n",
       "</table>\n",
       "</div>"
      ],
      "text/plain": [
       "            country  language  population  gdp\n",
       "af      Afghanistan    Pushto          10  100\n",
       "uk   United Kingdom   English          20  200\n",
       "jp            Japan  Japanese          30  300\n",
       "ch            China   Chinese          40  400\n",
       "pk         Pakistan      Urdu          50  500\n",
       "ind           India     Hindi          60  600"
      ]
     },
     "execution_count": 29,
     "metadata": {},
     "output_type": "execute_result"
    }
   ],
   "source": [
    "df.iloc[:, 0:4] # the end is exclusive."
   ]
  },
  {
   "cell_type": "markdown",
   "id": "9f31b9b7-041a-47c3-b89d-61bf0b789fd0",
   "metadata": {},
   "source": [
    "## 2.3. Access Both Rows and Columns:"
   ]
  },
  {
   "cell_type": "code",
   "execution_count": 30,
   "id": "9ca9b25c-17d3-4d08-8746-532a78b5b963",
   "metadata": {},
   "outputs": [
    {
     "data": {
      "text/html": [
       "<div>\n",
       "<style scoped>\n",
       "    .dataframe tbody tr th:only-of-type {\n",
       "        vertical-align: middle;\n",
       "    }\n",
       "\n",
       "    .dataframe tbody tr th {\n",
       "        vertical-align: top;\n",
       "    }\n",
       "\n",
       "    .dataframe thead th {\n",
       "        text-align: right;\n",
       "    }\n",
       "</style>\n",
       "<table border=\"1\" class=\"dataframe\">\n",
       "  <thead>\n",
       "    <tr style=\"text-align: right;\">\n",
       "      <th></th>\n",
       "      <th>country</th>\n",
       "      <th>language</th>\n",
       "      <th>population</th>\n",
       "      <th>gdp</th>\n",
       "      <th>continent</th>\n",
       "    </tr>\n",
       "  </thead>\n",
       "  <tbody>\n",
       "    <tr>\n",
       "      <th>af</th>\n",
       "      <td>Afghanistan</td>\n",
       "      <td>Pushto</td>\n",
       "      <td>10</td>\n",
       "      <td>100</td>\n",
       "      <td>Asia</td>\n",
       "    </tr>\n",
       "    <tr>\n",
       "      <th>uk</th>\n",
       "      <td>United Kingdom</td>\n",
       "      <td>English</td>\n",
       "      <td>20</td>\n",
       "      <td>200</td>\n",
       "      <td>Europe</td>\n",
       "    </tr>\n",
       "    <tr>\n",
       "      <th>jp</th>\n",
       "      <td>Japan</td>\n",
       "      <td>Japanese</td>\n",
       "      <td>30</td>\n",
       "      <td>300</td>\n",
       "      <td>East Asia</td>\n",
       "    </tr>\n",
       "    <tr>\n",
       "      <th>ch</th>\n",
       "      <td>China</td>\n",
       "      <td>Chinese</td>\n",
       "      <td>40</td>\n",
       "      <td>400</td>\n",
       "      <td>East Asia</td>\n",
       "    </tr>\n",
       "    <tr>\n",
       "      <th>pk</th>\n",
       "      <td>Pakistan</td>\n",
       "      <td>Urdu</td>\n",
       "      <td>50</td>\n",
       "      <td>500</td>\n",
       "      <td>Asia</td>\n",
       "    </tr>\n",
       "    <tr>\n",
       "      <th>ind</th>\n",
       "      <td>India</td>\n",
       "      <td>Hindi</td>\n",
       "      <td>60</td>\n",
       "      <td>600</td>\n",
       "      <td>Asia</td>\n",
       "    </tr>\n",
       "  </tbody>\n",
       "</table>\n",
       "</div>"
      ],
      "text/plain": [
       "            country  language  population  gdp  continent\n",
       "af      Afghanistan    Pushto          10  100       Asia\n",
       "uk   United Kingdom   English          20  200     Europe\n",
       "jp            Japan  Japanese          30  300  East Asia\n",
       "ch            China   Chinese          40  400  East Asia\n",
       "pk         Pakistan      Urdu          50  500       Asia\n",
       "ind           India     Hindi          60  600       Asia"
      ]
     },
     "execution_count": 30,
     "metadata": {},
     "output_type": "execute_result"
    }
   ],
   "source": [
    "df"
   ]
  },
  {
   "cell_type": "code",
   "execution_count": 31,
   "id": "8b9e700f-08da-4154-9f62-bfe2b9746057",
   "metadata": {},
   "outputs": [
    {
     "data": {
      "text/html": [
       "<div>\n",
       "<style scoped>\n",
       "    .dataframe tbody tr th:only-of-type {\n",
       "        vertical-align: middle;\n",
       "    }\n",
       "\n",
       "    .dataframe tbody tr th {\n",
       "        vertical-align: top;\n",
       "    }\n",
       "\n",
       "    .dataframe thead th {\n",
       "        text-align: right;\n",
       "    }\n",
       "</style>\n",
       "<table border=\"1\" class=\"dataframe\">\n",
       "  <thead>\n",
       "    <tr style=\"text-align: right;\">\n",
       "      <th></th>\n",
       "      <th>country</th>\n",
       "      <th>gdp</th>\n",
       "    </tr>\n",
       "  </thead>\n",
       "  <tbody>\n",
       "    <tr>\n",
       "      <th>af</th>\n",
       "      <td>Afghanistan</td>\n",
       "      <td>100</td>\n",
       "    </tr>\n",
       "  </tbody>\n",
       "</table>\n",
       "</div>"
      ],
      "text/plain": [
       "        country  gdp\n",
       "af  Afghanistan  100"
      ]
     },
     "execution_count": 31,
     "metadata": {},
     "output_type": "execute_result"
    }
   ],
   "source": [
    "df.iloc[[0], [0, 3]]"
   ]
  },
  {
   "cell_type": "code",
   "execution_count": 32,
   "id": "6ab21b95-9fb4-47b4-a36b-54e2945e10c6",
   "metadata": {},
   "outputs": [
    {
     "data": {
      "text/html": [
       "<div>\n",
       "<style scoped>\n",
       "    .dataframe tbody tr th:only-of-type {\n",
       "        vertical-align: middle;\n",
       "    }\n",
       "\n",
       "    .dataframe tbody tr th {\n",
       "        vertical-align: top;\n",
       "    }\n",
       "\n",
       "    .dataframe thead th {\n",
       "        text-align: right;\n",
       "    }\n",
       "</style>\n",
       "<table border=\"1\" class=\"dataframe\">\n",
       "  <thead>\n",
       "    <tr style=\"text-align: right;\">\n",
       "      <th></th>\n",
       "      <th>country</th>\n",
       "      <th>gdp</th>\n",
       "    </tr>\n",
       "  </thead>\n",
       "  <tbody>\n",
       "    <tr>\n",
       "      <th>af</th>\n",
       "      <td>Afghanistan</td>\n",
       "      <td>100</td>\n",
       "    </tr>\n",
       "    <tr>\n",
       "      <th>ch</th>\n",
       "      <td>China</td>\n",
       "      <td>400</td>\n",
       "    </tr>\n",
       "    <tr>\n",
       "      <th>pk</th>\n",
       "      <td>Pakistan</td>\n",
       "      <td>500</td>\n",
       "    </tr>\n",
       "  </tbody>\n",
       "</table>\n",
       "</div>"
      ],
      "text/plain": [
       "        country  gdp\n",
       "af  Afghanistan  100\n",
       "ch        China  400\n",
       "pk     Pakistan  500"
      ]
     },
     "execution_count": 32,
     "metadata": {},
     "output_type": "execute_result"
    }
   ],
   "source": [
    "df.iloc[[0, 3, 4], [0, 3]]"
   ]
  },
  {
   "cell_type": "code",
   "execution_count": 33,
   "id": "47a8a16e-6bf6-4ae1-9559-aff45d734fba",
   "metadata": {},
   "outputs": [
    {
     "data": {
      "text/html": [
       "<div>\n",
       "<style scoped>\n",
       "    .dataframe tbody tr th:only-of-type {\n",
       "        vertical-align: middle;\n",
       "    }\n",
       "\n",
       "    .dataframe tbody tr th {\n",
       "        vertical-align: top;\n",
       "    }\n",
       "\n",
       "    .dataframe thead th {\n",
       "        text-align: right;\n",
       "    }\n",
       "</style>\n",
       "<table border=\"1\" class=\"dataframe\">\n",
       "  <thead>\n",
       "    <tr style=\"text-align: right;\">\n",
       "      <th></th>\n",
       "      <th>country</th>\n",
       "      <th>gdp</th>\n",
       "    </tr>\n",
       "  </thead>\n",
       "  <tbody>\n",
       "    <tr>\n",
       "      <th>af</th>\n",
       "      <td>Afghanistan</td>\n",
       "      <td>100</td>\n",
       "    </tr>\n",
       "    <tr>\n",
       "      <th>uk</th>\n",
       "      <td>United Kingdom</td>\n",
       "      <td>200</td>\n",
       "    </tr>\n",
       "    <tr>\n",
       "      <th>jp</th>\n",
       "      <td>Japan</td>\n",
       "      <td>300</td>\n",
       "    </tr>\n",
       "    <tr>\n",
       "      <th>ch</th>\n",
       "      <td>China</td>\n",
       "      <td>400</td>\n",
       "    </tr>\n",
       "  </tbody>\n",
       "</table>\n",
       "</div>"
      ],
      "text/plain": [
       "           country  gdp\n",
       "af     Afghanistan  100\n",
       "uk  United Kingdom  200\n",
       "jp           Japan  300\n",
       "ch           China  400"
      ]
     },
     "execution_count": 33,
     "metadata": {},
     "output_type": "execute_result"
    }
   ],
   "source": [
    "df.iloc[0:4, [0, 3]] # the end is exclusive in slicing."
   ]
  },
  {
   "cell_type": "code",
   "execution_count": 34,
   "id": "9e874bb2-515a-4932-8fc1-92b512d09497",
   "metadata": {},
   "outputs": [
    {
     "data": {
      "text/html": [
       "<div>\n",
       "<style scoped>\n",
       "    .dataframe tbody tr th:only-of-type {\n",
       "        vertical-align: middle;\n",
       "    }\n",
       "\n",
       "    .dataframe tbody tr th {\n",
       "        vertical-align: top;\n",
       "    }\n",
       "\n",
       "    .dataframe thead th {\n",
       "        text-align: right;\n",
       "    }\n",
       "</style>\n",
       "<table border=\"1\" class=\"dataframe\">\n",
       "  <thead>\n",
       "    <tr style=\"text-align: right;\">\n",
       "      <th></th>\n",
       "      <th>country</th>\n",
       "      <th>language</th>\n",
       "      <th>population</th>\n",
       "      <th>gdp</th>\n",
       "    </tr>\n",
       "  </thead>\n",
       "  <tbody>\n",
       "    <tr>\n",
       "      <th>af</th>\n",
       "      <td>Afghanistan</td>\n",
       "      <td>Pushto</td>\n",
       "      <td>10</td>\n",
       "      <td>100</td>\n",
       "    </tr>\n",
       "    <tr>\n",
       "      <th>ch</th>\n",
       "      <td>China</td>\n",
       "      <td>Chinese</td>\n",
       "      <td>40</td>\n",
       "      <td>400</td>\n",
       "    </tr>\n",
       "  </tbody>\n",
       "</table>\n",
       "</div>"
      ],
      "text/plain": [
       "        country language  population  gdp\n",
       "af  Afghanistan   Pushto          10  100\n",
       "ch        China  Chinese          40  400"
      ]
     },
     "execution_count": 34,
     "metadata": {},
     "output_type": "execute_result"
    }
   ],
   "source": [
    "df.iloc[[0, 3], 0:4] # The end is exclusive in slicing."
   ]
  },
  {
   "cell_type": "code",
   "execution_count": 35,
   "id": "a9e706fa-ff98-4aae-95b8-3a683b916424",
   "metadata": {},
   "outputs": [
    {
     "data": {
      "text/html": [
       "<div>\n",
       "<style scoped>\n",
       "    .dataframe tbody tr th:only-of-type {\n",
       "        vertical-align: middle;\n",
       "    }\n",
       "\n",
       "    .dataframe tbody tr th {\n",
       "        vertical-align: top;\n",
       "    }\n",
       "\n",
       "    .dataframe thead th {\n",
       "        text-align: right;\n",
       "    }\n",
       "</style>\n",
       "<table border=\"1\" class=\"dataframe\">\n",
       "  <thead>\n",
       "    <tr style=\"text-align: right;\">\n",
       "      <th></th>\n",
       "      <th>country</th>\n",
       "      <th>language</th>\n",
       "      <th>population</th>\n",
       "      <th>gdp</th>\n",
       "    </tr>\n",
       "  </thead>\n",
       "  <tbody>\n",
       "    <tr>\n",
       "      <th>af</th>\n",
       "      <td>Afghanistan</td>\n",
       "      <td>Pushto</td>\n",
       "      <td>10</td>\n",
       "      <td>100</td>\n",
       "    </tr>\n",
       "    <tr>\n",
       "      <th>uk</th>\n",
       "      <td>United Kingdom</td>\n",
       "      <td>English</td>\n",
       "      <td>20</td>\n",
       "      <td>200</td>\n",
       "    </tr>\n",
       "    <tr>\n",
       "      <th>jp</th>\n",
       "      <td>Japan</td>\n",
       "      <td>Japanese</td>\n",
       "      <td>30</td>\n",
       "      <td>300</td>\n",
       "    </tr>\n",
       "    <tr>\n",
       "      <th>ch</th>\n",
       "      <td>China</td>\n",
       "      <td>Chinese</td>\n",
       "      <td>40</td>\n",
       "      <td>400</td>\n",
       "    </tr>\n",
       "  </tbody>\n",
       "</table>\n",
       "</div>"
      ],
      "text/plain": [
       "           country  language  population  gdp\n",
       "af     Afghanistan    Pushto          10  100\n",
       "uk  United Kingdom   English          20  200\n",
       "jp           Japan  Japanese          30  300\n",
       "ch           China   Chinese          40  400"
      ]
     },
     "execution_count": 35,
     "metadata": {},
     "output_type": "execute_result"
    }
   ],
   "source": [
    "df.iloc[0:4, 0:4] # The end is exclusive in slicing."
   ]
  },
  {
   "cell_type": "markdown",
   "id": "2b52b50b-220f-484a-8174-750bd78aefa0",
   "metadata": {},
   "source": [
    "# Collection of all the above commands:"
   ]
  },
  {
   "cell_type": "markdown",
   "id": "e06747a5-a489-475a-9b06-5bbbfa3c0344",
   "metadata": {},
   "source": [
    "## 1. Square Brackets:"
   ]
  },
  {
   "cell_type": "markdown",
   "id": "c088c109-5223-4ff0-92a8-e22cdfb4cf35",
   "metadata": {},
   "source": [
    "### 1.1. Columns only:"
   ]
  },
  {
   "cell_type": "code",
   "execution_count": 36,
   "id": "303b84df-8f01-42bc-bd13-6e17601e2ad3",
   "metadata": {},
   "outputs": [
    {
     "data": {
      "text/html": [
       "<div>\n",
       "<style scoped>\n",
       "    .dataframe tbody tr th:only-of-type {\n",
       "        vertical-align: middle;\n",
       "    }\n",
       "\n",
       "    .dataframe tbody tr th {\n",
       "        vertical-align: top;\n",
       "    }\n",
       "\n",
       "    .dataframe thead th {\n",
       "        text-align: right;\n",
       "    }\n",
       "</style>\n",
       "<table border=\"1\" class=\"dataframe\">\n",
       "  <thead>\n",
       "    <tr style=\"text-align: right;\">\n",
       "      <th></th>\n",
       "      <th>country</th>\n",
       "      <th>language</th>\n",
       "      <th>population</th>\n",
       "      <th>gdp</th>\n",
       "      <th>continent</th>\n",
       "    </tr>\n",
       "  </thead>\n",
       "  <tbody>\n",
       "    <tr>\n",
       "      <th>af</th>\n",
       "      <td>Afghanistan</td>\n",
       "      <td>Pushto</td>\n",
       "      <td>10</td>\n",
       "      <td>100</td>\n",
       "      <td>Asia</td>\n",
       "    </tr>\n",
       "    <tr>\n",
       "      <th>uk</th>\n",
       "      <td>United Kingdom</td>\n",
       "      <td>English</td>\n",
       "      <td>20</td>\n",
       "      <td>200</td>\n",
       "      <td>Europe</td>\n",
       "    </tr>\n",
       "    <tr>\n",
       "      <th>jp</th>\n",
       "      <td>Japan</td>\n",
       "      <td>Japanese</td>\n",
       "      <td>30</td>\n",
       "      <td>300</td>\n",
       "      <td>East Asia</td>\n",
       "    </tr>\n",
       "    <tr>\n",
       "      <th>ch</th>\n",
       "      <td>China</td>\n",
       "      <td>Chinese</td>\n",
       "      <td>40</td>\n",
       "      <td>400</td>\n",
       "      <td>East Asia</td>\n",
       "    </tr>\n",
       "    <tr>\n",
       "      <th>pk</th>\n",
       "      <td>Pakistan</td>\n",
       "      <td>Urdu</td>\n",
       "      <td>50</td>\n",
       "      <td>500</td>\n",
       "      <td>Asia</td>\n",
       "    </tr>\n",
       "    <tr>\n",
       "      <th>ind</th>\n",
       "      <td>India</td>\n",
       "      <td>Hindi</td>\n",
       "      <td>60</td>\n",
       "      <td>600</td>\n",
       "      <td>Asia</td>\n",
       "    </tr>\n",
       "  </tbody>\n",
       "</table>\n",
       "</div>"
      ],
      "text/plain": [
       "            country  language  population  gdp  continent\n",
       "af      Afghanistan    Pushto          10  100       Asia\n",
       "uk   United Kingdom   English          20  200     Europe\n",
       "jp            Japan  Japanese          30  300  East Asia\n",
       "ch            China   Chinese          40  400  East Asia\n",
       "pk         Pakistan      Urdu          50  500       Asia\n",
       "ind           India     Hindi          60  600       Asia"
      ]
     },
     "execution_count": 36,
     "metadata": {},
     "output_type": "execute_result"
    }
   ],
   "source": [
    "df"
   ]
  },
  {
   "cell_type": "code",
   "execution_count": 37,
   "id": "bd1f992d-951a-4cb0-8e6b-fa9644b9ed0a",
   "metadata": {},
   "outputs": [
    {
     "data": {
      "text/plain": [
       "af        Afghanistan\n",
       "uk     United Kingdom\n",
       "jp              Japan\n",
       "ch              China\n",
       "pk           Pakistan\n",
       "ind             India\n",
       "Name: country, dtype: object"
      ]
     },
     "execution_count": 37,
     "metadata": {},
     "output_type": "execute_result"
    }
   ],
   "source": [
    "df['country']             # series object"
   ]
  },
  {
   "cell_type": "code",
   "execution_count": 38,
   "id": "551a0032-2754-486e-b99a-5cbc5cdd2a6c",
   "metadata": {},
   "outputs": [
    {
     "data": {
      "text/html": [
       "<div>\n",
       "<style scoped>\n",
       "    .dataframe tbody tr th:only-of-type {\n",
       "        vertical-align: middle;\n",
       "    }\n",
       "\n",
       "    .dataframe tbody tr th {\n",
       "        vertical-align: top;\n",
       "    }\n",
       "\n",
       "    .dataframe thead th {\n",
       "        text-align: right;\n",
       "    }\n",
       "</style>\n",
       "<table border=\"1\" class=\"dataframe\">\n",
       "  <thead>\n",
       "    <tr style=\"text-align: right;\">\n",
       "      <th></th>\n",
       "      <th>country</th>\n",
       "    </tr>\n",
       "  </thead>\n",
       "  <tbody>\n",
       "    <tr>\n",
       "      <th>af</th>\n",
       "      <td>Afghanistan</td>\n",
       "    </tr>\n",
       "    <tr>\n",
       "      <th>uk</th>\n",
       "      <td>United Kingdom</td>\n",
       "    </tr>\n",
       "    <tr>\n",
       "      <th>jp</th>\n",
       "      <td>Japan</td>\n",
       "    </tr>\n",
       "    <tr>\n",
       "      <th>ch</th>\n",
       "      <td>China</td>\n",
       "    </tr>\n",
       "    <tr>\n",
       "      <th>pk</th>\n",
       "      <td>Pakistan</td>\n",
       "    </tr>\n",
       "    <tr>\n",
       "      <th>ind</th>\n",
       "      <td>India</td>\n",
       "    </tr>\n",
       "  </tbody>\n",
       "</table>\n",
       "</div>"
      ],
      "text/plain": [
       "            country\n",
       "af      Afghanistan\n",
       "uk   United Kingdom\n",
       "jp            Japan\n",
       "ch            China\n",
       "pk         Pakistan\n",
       "ind           India"
      ]
     },
     "execution_count": 38,
     "metadata": {},
     "output_type": "execute_result"
    }
   ],
   "source": [
    "df[['country']]          # DataFrame object"
   ]
  },
  {
   "cell_type": "code",
   "execution_count": 39,
   "id": "5ecaff06-ef46-45ff-b4d4-7af0bef51a04",
   "metadata": {},
   "outputs": [
    {
     "data": {
      "text/html": [
       "<div>\n",
       "<style scoped>\n",
       "    .dataframe tbody tr th:only-of-type {\n",
       "        vertical-align: middle;\n",
       "    }\n",
       "\n",
       "    .dataframe tbody tr th {\n",
       "        vertical-align: top;\n",
       "    }\n",
       "\n",
       "    .dataframe thead th {\n",
       "        text-align: right;\n",
       "    }\n",
       "</style>\n",
       "<table border=\"1\" class=\"dataframe\">\n",
       "  <thead>\n",
       "    <tr style=\"text-align: right;\">\n",
       "      <th></th>\n",
       "      <th>country</th>\n",
       "      <th>gdp</th>\n",
       "    </tr>\n",
       "  </thead>\n",
       "  <tbody>\n",
       "    <tr>\n",
       "      <th>af</th>\n",
       "      <td>Afghanistan</td>\n",
       "      <td>100</td>\n",
       "    </tr>\n",
       "    <tr>\n",
       "      <th>uk</th>\n",
       "      <td>United Kingdom</td>\n",
       "      <td>200</td>\n",
       "    </tr>\n",
       "    <tr>\n",
       "      <th>jp</th>\n",
       "      <td>Japan</td>\n",
       "      <td>300</td>\n",
       "    </tr>\n",
       "    <tr>\n",
       "      <th>ch</th>\n",
       "      <td>China</td>\n",
       "      <td>400</td>\n",
       "    </tr>\n",
       "    <tr>\n",
       "      <th>pk</th>\n",
       "      <td>Pakistan</td>\n",
       "      <td>500</td>\n",
       "    </tr>\n",
       "    <tr>\n",
       "      <th>ind</th>\n",
       "      <td>India</td>\n",
       "      <td>600</td>\n",
       "    </tr>\n",
       "  </tbody>\n",
       "</table>\n",
       "</div>"
      ],
      "text/plain": [
       "            country  gdp\n",
       "af      Afghanistan  100\n",
       "uk   United Kingdom  200\n",
       "jp            Japan  300\n",
       "ch            China  400\n",
       "pk         Pakistan  500\n",
       "ind           India  600"
      ]
     },
     "execution_count": 39,
     "metadata": {},
     "output_type": "execute_result"
    }
   ],
   "source": [
    "df[['country', 'gdp']]      # List. DataFrame object"
   ]
  },
  {
   "cell_type": "markdown",
   "id": "517c2239-109a-445f-9695-60a9429cc58c",
   "metadata": {},
   "source": [
    "### 1.2. Rows only:"
   ]
  },
  {
   "cell_type": "code",
   "execution_count": 40,
   "id": "ca2997f5-6ade-4433-84e0-81848c64dbd8",
   "metadata": {},
   "outputs": [
    {
     "data": {
      "text/html": [
       "<div>\n",
       "<style scoped>\n",
       "    .dataframe tbody tr th:only-of-type {\n",
       "        vertical-align: middle;\n",
       "    }\n",
       "\n",
       "    .dataframe tbody tr th {\n",
       "        vertical-align: top;\n",
       "    }\n",
       "\n",
       "    .dataframe thead th {\n",
       "        text-align: right;\n",
       "    }\n",
       "</style>\n",
       "<table border=\"1\" class=\"dataframe\">\n",
       "  <thead>\n",
       "    <tr style=\"text-align: right;\">\n",
       "      <th></th>\n",
       "      <th>country</th>\n",
       "      <th>language</th>\n",
       "      <th>population</th>\n",
       "      <th>gdp</th>\n",
       "      <th>continent</th>\n",
       "    </tr>\n",
       "  </thead>\n",
       "  <tbody>\n",
       "    <tr>\n",
       "      <th>af</th>\n",
       "      <td>Afghanistan</td>\n",
       "      <td>Pushto</td>\n",
       "      <td>10</td>\n",
       "      <td>100</td>\n",
       "      <td>Asia</td>\n",
       "    </tr>\n",
       "    <tr>\n",
       "      <th>uk</th>\n",
       "      <td>United Kingdom</td>\n",
       "      <td>English</td>\n",
       "      <td>20</td>\n",
       "      <td>200</td>\n",
       "      <td>Europe</td>\n",
       "    </tr>\n",
       "    <tr>\n",
       "      <th>jp</th>\n",
       "      <td>Japan</td>\n",
       "      <td>Japanese</td>\n",
       "      <td>30</td>\n",
       "      <td>300</td>\n",
       "      <td>East Asia</td>\n",
       "    </tr>\n",
       "    <tr>\n",
       "      <th>ch</th>\n",
       "      <td>China</td>\n",
       "      <td>Chinese</td>\n",
       "      <td>40</td>\n",
       "      <td>400</td>\n",
       "      <td>East Asia</td>\n",
       "    </tr>\n",
       "  </tbody>\n",
       "</table>\n",
       "</div>"
      ],
      "text/plain": [
       "           country  language  population  gdp  continent\n",
       "af     Afghanistan    Pushto          10  100       Asia\n",
       "uk  United Kingdom   English          20  200     Europe\n",
       "jp           Japan  Japanese          30  300  East Asia\n",
       "ch           China   Chinese          40  400  East Asia"
      ]
     },
     "execution_count": 40,
     "metadata": {},
     "output_type": "execute_result"
    }
   ],
   "source": [
    "df['af':'ch']    # Single square brackets and slicing. DataFrame object. The end inclusive."
   ]
  },
  {
   "cell_type": "code",
   "execution_count": 41,
   "id": "d7298631-9b4b-45d2-84cb-47d0c20cbbce",
   "metadata": {},
   "outputs": [
    {
     "data": {
      "text/html": [
       "<div>\n",
       "<style scoped>\n",
       "    .dataframe tbody tr th:only-of-type {\n",
       "        vertical-align: middle;\n",
       "    }\n",
       "\n",
       "    .dataframe tbody tr th {\n",
       "        vertical-align: top;\n",
       "    }\n",
       "\n",
       "    .dataframe thead th {\n",
       "        text-align: right;\n",
       "    }\n",
       "</style>\n",
       "<table border=\"1\" class=\"dataframe\">\n",
       "  <thead>\n",
       "    <tr style=\"text-align: right;\">\n",
       "      <th></th>\n",
       "      <th>country</th>\n",
       "      <th>language</th>\n",
       "      <th>population</th>\n",
       "      <th>gdp</th>\n",
       "      <th>continent</th>\n",
       "    </tr>\n",
       "  </thead>\n",
       "  <tbody>\n",
       "    <tr>\n",
       "      <th>af</th>\n",
       "      <td>Afghanistan</td>\n",
       "      <td>Pushto</td>\n",
       "      <td>10</td>\n",
       "      <td>100</td>\n",
       "      <td>Asia</td>\n",
       "    </tr>\n",
       "    <tr>\n",
       "      <th>uk</th>\n",
       "      <td>United Kingdom</td>\n",
       "      <td>English</td>\n",
       "      <td>20</td>\n",
       "      <td>200</td>\n",
       "      <td>Europe</td>\n",
       "    </tr>\n",
       "    <tr>\n",
       "      <th>jp</th>\n",
       "      <td>Japan</td>\n",
       "      <td>Japanese</td>\n",
       "      <td>30</td>\n",
       "      <td>300</td>\n",
       "      <td>East Asia</td>\n",
       "    </tr>\n",
       "    <tr>\n",
       "      <th>ch</th>\n",
       "      <td>China</td>\n",
       "      <td>Chinese</td>\n",
       "      <td>40</td>\n",
       "      <td>400</td>\n",
       "      <td>East Asia</td>\n",
       "    </tr>\n",
       "  </tbody>\n",
       "</table>\n",
       "</div>"
      ],
      "text/plain": [
       "           country  language  population  gdp  continent\n",
       "af     Afghanistan    Pushto          10  100       Asia\n",
       "uk  United Kingdom   English          20  200     Europe\n",
       "jp           Japan  Japanese          30  300  East Asia\n",
       "ch           China   Chinese          40  400  East Asia"
      ]
     },
     "execution_count": 41,
     "metadata": {},
     "output_type": "execute_result"
    }
   ],
   "source": [
    "df[0:4]     # DataFrame object. The end exclusive."
   ]
  },
  {
   "cell_type": "markdown",
   "id": "29fd1cb0-0e21-4f48-8b6d-d408ce748e8b",
   "metadata": {},
   "source": [
    "## 2. loc: \n",
    "#### (label-based only)"
   ]
  },
  {
   "cell_type": "markdown",
   "id": "a9e7663c-b666-4a6d-90f4-c2bae455510a",
   "metadata": {},
   "source": [
    "### 2.1. Rows only:"
   ]
  },
  {
   "cell_type": "code",
   "execution_count": 42,
   "id": "bc74d395-144e-4d82-9545-c5d2940947c9",
   "metadata": {},
   "outputs": [
    {
     "data": {
      "text/plain": [
       "country       Afghanistan\n",
       "language           Pushto\n",
       "population             10\n",
       "gdp                   100\n",
       "continent            Asia\n",
       "Name: af, dtype: object"
      ]
     },
     "execution_count": 42,
     "metadata": {},
     "output_type": "execute_result"
    }
   ],
   "source": [
    "df.loc['af']    # Series object."
   ]
  },
  {
   "cell_type": "code",
   "execution_count": 43,
   "id": "4c737663-39c7-43bd-871f-c5ef6f4cfd21",
   "metadata": {},
   "outputs": [
    {
     "data": {
      "text/html": [
       "<div>\n",
       "<style scoped>\n",
       "    .dataframe tbody tr th:only-of-type {\n",
       "        vertical-align: middle;\n",
       "    }\n",
       "\n",
       "    .dataframe tbody tr th {\n",
       "        vertical-align: top;\n",
       "    }\n",
       "\n",
       "    .dataframe thead th {\n",
       "        text-align: right;\n",
       "    }\n",
       "</style>\n",
       "<table border=\"1\" class=\"dataframe\">\n",
       "  <thead>\n",
       "    <tr style=\"text-align: right;\">\n",
       "      <th></th>\n",
       "      <th>country</th>\n",
       "      <th>language</th>\n",
       "      <th>population</th>\n",
       "      <th>gdp</th>\n",
       "      <th>continent</th>\n",
       "    </tr>\n",
       "  </thead>\n",
       "  <tbody>\n",
       "    <tr>\n",
       "      <th>af</th>\n",
       "      <td>Afghanistan</td>\n",
       "      <td>Pushto</td>\n",
       "      <td>10</td>\n",
       "      <td>100</td>\n",
       "      <td>Asia</td>\n",
       "    </tr>\n",
       "  </tbody>\n",
       "</table>\n",
       "</div>"
      ],
      "text/plain": [
       "        country language  population  gdp continent\n",
       "af  Afghanistan   Pushto          10  100      Asia"
      ]
     },
     "execution_count": 43,
     "metadata": {},
     "output_type": "execute_result"
    }
   ],
   "source": [
    "df.loc[['af']]    # DataFrame object."
   ]
  },
  {
   "cell_type": "code",
   "execution_count": 44,
   "id": "52b13f98-1948-4474-b9bc-6793c7a455c1",
   "metadata": {},
   "outputs": [
    {
     "data": {
      "text/html": [
       "<div>\n",
       "<style scoped>\n",
       "    .dataframe tbody tr th:only-of-type {\n",
       "        vertical-align: middle;\n",
       "    }\n",
       "\n",
       "    .dataframe tbody tr th {\n",
       "        vertical-align: top;\n",
       "    }\n",
       "\n",
       "    .dataframe thead th {\n",
       "        text-align: right;\n",
       "    }\n",
       "</style>\n",
       "<table border=\"1\" class=\"dataframe\">\n",
       "  <thead>\n",
       "    <tr style=\"text-align: right;\">\n",
       "      <th></th>\n",
       "      <th>country</th>\n",
       "      <th>language</th>\n",
       "      <th>population</th>\n",
       "      <th>gdp</th>\n",
       "      <th>continent</th>\n",
       "    </tr>\n",
       "  </thead>\n",
       "  <tbody>\n",
       "    <tr>\n",
       "      <th>af</th>\n",
       "      <td>Afghanistan</td>\n",
       "      <td>Pushto</td>\n",
       "      <td>10</td>\n",
       "      <td>100</td>\n",
       "      <td>Asia</td>\n",
       "    </tr>\n",
       "    <tr>\n",
       "      <th>ch</th>\n",
       "      <td>China</td>\n",
       "      <td>Chinese</td>\n",
       "      <td>40</td>\n",
       "      <td>400</td>\n",
       "      <td>East Asia</td>\n",
       "    </tr>\n",
       "    <tr>\n",
       "      <th>pk</th>\n",
       "      <td>Pakistan</td>\n",
       "      <td>Urdu</td>\n",
       "      <td>50</td>\n",
       "      <td>500</td>\n",
       "      <td>Asia</td>\n",
       "    </tr>\n",
       "  </tbody>\n",
       "</table>\n",
       "</div>"
      ],
      "text/plain": [
       "        country language  population  gdp  continent\n",
       "af  Afghanistan   Pushto          10  100       Asia\n",
       "ch        China  Chinese          40  400  East Asia\n",
       "pk     Pakistan     Urdu          50  500       Asia"
      ]
     },
     "execution_count": 44,
     "metadata": {},
     "output_type": "execute_result"
    }
   ],
   "source": [
    "df.loc[['af', 'ch', 'pk']]     # List. DataFrame object."
   ]
  },
  {
   "cell_type": "code",
   "execution_count": 45,
   "id": "1109c895-2f60-466b-bba6-749226c75ad2",
   "metadata": {},
   "outputs": [
    {
     "data": {
      "text/html": [
       "<div>\n",
       "<style scoped>\n",
       "    .dataframe tbody tr th:only-of-type {\n",
       "        vertical-align: middle;\n",
       "    }\n",
       "\n",
       "    .dataframe tbody tr th {\n",
       "        vertical-align: top;\n",
       "    }\n",
       "\n",
       "    .dataframe thead th {\n",
       "        text-align: right;\n",
       "    }\n",
       "</style>\n",
       "<table border=\"1\" class=\"dataframe\">\n",
       "  <thead>\n",
       "    <tr style=\"text-align: right;\">\n",
       "      <th></th>\n",
       "      <th>country</th>\n",
       "      <th>language</th>\n",
       "      <th>population</th>\n",
       "      <th>gdp</th>\n",
       "      <th>continent</th>\n",
       "    </tr>\n",
       "  </thead>\n",
       "  <tbody>\n",
       "    <tr>\n",
       "      <th>af</th>\n",
       "      <td>Afghanistan</td>\n",
       "      <td>Pushto</td>\n",
       "      <td>10</td>\n",
       "      <td>100</td>\n",
       "      <td>Asia</td>\n",
       "    </tr>\n",
       "    <tr>\n",
       "      <th>uk</th>\n",
       "      <td>United Kingdom</td>\n",
       "      <td>English</td>\n",
       "      <td>20</td>\n",
       "      <td>200</td>\n",
       "      <td>Europe</td>\n",
       "    </tr>\n",
       "    <tr>\n",
       "      <th>jp</th>\n",
       "      <td>Japan</td>\n",
       "      <td>Japanese</td>\n",
       "      <td>30</td>\n",
       "      <td>300</td>\n",
       "      <td>East Asia</td>\n",
       "    </tr>\n",
       "    <tr>\n",
       "      <th>ch</th>\n",
       "      <td>China</td>\n",
       "      <td>Chinese</td>\n",
       "      <td>40</td>\n",
       "      <td>400</td>\n",
       "      <td>East Asia</td>\n",
       "    </tr>\n",
       "  </tbody>\n",
       "</table>\n",
       "</div>"
      ],
      "text/plain": [
       "           country  language  population  gdp  continent\n",
       "af     Afghanistan    Pushto          10  100       Asia\n",
       "uk  United Kingdom   English          20  200     Europe\n",
       "jp           Japan  Japanese          30  300  East Asia\n",
       "ch           China   Chinese          40  400  East Asia"
      ]
     },
     "execution_count": 45,
     "metadata": {},
     "output_type": "execute_result"
    }
   ],
   "source": [
    "df.loc['af':'ch']    # DataFrame object. The end inclusive."
   ]
  },
  {
   "cell_type": "markdown",
   "id": "559eb543-2beb-4cdb-b459-ec95d1be4d85",
   "metadata": {},
   "source": [
    "### 2.2. Columns only:"
   ]
  },
  {
   "cell_type": "code",
   "execution_count": 46,
   "id": "33b59cae-c873-43e6-9ecb-da89f089d9bb",
   "metadata": {},
   "outputs": [
    {
     "data": {
      "text/plain": [
       "af        Afghanistan\n",
       "uk     United Kingdom\n",
       "jp              Japan\n",
       "ch              China\n",
       "pk           Pakistan\n",
       "ind             India\n",
       "Name: country, dtype: object"
      ]
     },
     "execution_count": 46,
     "metadata": {},
     "output_type": "execute_result"
    }
   ],
   "source": [
    "df.loc[:, 'country']   # Series object. Seperating comma. Row argument compulsory."
   ]
  },
  {
   "cell_type": "code",
   "execution_count": 47,
   "id": "bbf62147-297d-460b-bcae-8e2ba7863282",
   "metadata": {},
   "outputs": [
    {
     "data": {
      "text/html": [
       "<div>\n",
       "<style scoped>\n",
       "    .dataframe tbody tr th:only-of-type {\n",
       "        vertical-align: middle;\n",
       "    }\n",
       "\n",
       "    .dataframe tbody tr th {\n",
       "        vertical-align: top;\n",
       "    }\n",
       "\n",
       "    .dataframe thead th {\n",
       "        text-align: right;\n",
       "    }\n",
       "</style>\n",
       "<table border=\"1\" class=\"dataframe\">\n",
       "  <thead>\n",
       "    <tr style=\"text-align: right;\">\n",
       "      <th></th>\n",
       "      <th>country</th>\n",
       "    </tr>\n",
       "  </thead>\n",
       "  <tbody>\n",
       "    <tr>\n",
       "      <th>af</th>\n",
       "      <td>Afghanistan</td>\n",
       "    </tr>\n",
       "    <tr>\n",
       "      <th>uk</th>\n",
       "      <td>United Kingdom</td>\n",
       "    </tr>\n",
       "    <tr>\n",
       "      <th>jp</th>\n",
       "      <td>Japan</td>\n",
       "    </tr>\n",
       "    <tr>\n",
       "      <th>ch</th>\n",
       "      <td>China</td>\n",
       "    </tr>\n",
       "    <tr>\n",
       "      <th>pk</th>\n",
       "      <td>Pakistan</td>\n",
       "    </tr>\n",
       "    <tr>\n",
       "      <th>ind</th>\n",
       "      <td>India</td>\n",
       "    </tr>\n",
       "  </tbody>\n",
       "</table>\n",
       "</div>"
      ],
      "text/plain": [
       "            country\n",
       "af      Afghanistan\n",
       "uk   United Kingdom\n",
       "jp            Japan\n",
       "ch            China\n",
       "pk         Pakistan\n",
       "ind           India"
      ]
     },
     "execution_count": 47,
     "metadata": {},
     "output_type": "execute_result"
    }
   ],
   "source": [
    "df.loc[:, ['country']]    # DataFrame object."
   ]
  },
  {
   "cell_type": "code",
   "execution_count": 48,
   "id": "e63a8d2d-4a6e-4413-aa16-e12a0c77c7fa",
   "metadata": {},
   "outputs": [
    {
     "data": {
      "text/html": [
       "<div>\n",
       "<style scoped>\n",
       "    .dataframe tbody tr th:only-of-type {\n",
       "        vertical-align: middle;\n",
       "    }\n",
       "\n",
       "    .dataframe tbody tr th {\n",
       "        vertical-align: top;\n",
       "    }\n",
       "\n",
       "    .dataframe thead th {\n",
       "        text-align: right;\n",
       "    }\n",
       "</style>\n",
       "<table border=\"1\" class=\"dataframe\">\n",
       "  <thead>\n",
       "    <tr style=\"text-align: right;\">\n",
       "      <th></th>\n",
       "      <th>country</th>\n",
       "      <th>gdp</th>\n",
       "    </tr>\n",
       "  </thead>\n",
       "  <tbody>\n",
       "    <tr>\n",
       "      <th>af</th>\n",
       "      <td>Afghanistan</td>\n",
       "      <td>100</td>\n",
       "    </tr>\n",
       "    <tr>\n",
       "      <th>uk</th>\n",
       "      <td>United Kingdom</td>\n",
       "      <td>200</td>\n",
       "    </tr>\n",
       "    <tr>\n",
       "      <th>jp</th>\n",
       "      <td>Japan</td>\n",
       "      <td>300</td>\n",
       "    </tr>\n",
       "    <tr>\n",
       "      <th>ch</th>\n",
       "      <td>China</td>\n",
       "      <td>400</td>\n",
       "    </tr>\n",
       "    <tr>\n",
       "      <th>pk</th>\n",
       "      <td>Pakistan</td>\n",
       "      <td>500</td>\n",
       "    </tr>\n",
       "    <tr>\n",
       "      <th>ind</th>\n",
       "      <td>India</td>\n",
       "      <td>600</td>\n",
       "    </tr>\n",
       "  </tbody>\n",
       "</table>\n",
       "</div>"
      ],
      "text/plain": [
       "            country  gdp\n",
       "af      Afghanistan  100\n",
       "uk   United Kingdom  200\n",
       "jp            Japan  300\n",
       "ch            China  400\n",
       "pk         Pakistan  500\n",
       "ind           India  600"
      ]
     },
     "execution_count": 48,
     "metadata": {},
     "output_type": "execute_result"
    }
   ],
   "source": [
    "df.loc[:, ['country', 'gdp']]      # List. DataFrame object."
   ]
  },
  {
   "cell_type": "code",
   "execution_count": 49,
   "id": "f8702988-1088-48c7-8732-2336d19499ee",
   "metadata": {},
   "outputs": [
    {
     "data": {
      "text/html": [
       "<div>\n",
       "<style scoped>\n",
       "    .dataframe tbody tr th:only-of-type {\n",
       "        vertical-align: middle;\n",
       "    }\n",
       "\n",
       "    .dataframe tbody tr th {\n",
       "        vertical-align: top;\n",
       "    }\n",
       "\n",
       "    .dataframe thead th {\n",
       "        text-align: right;\n",
       "    }\n",
       "</style>\n",
       "<table border=\"1\" class=\"dataframe\">\n",
       "  <thead>\n",
       "    <tr style=\"text-align: right;\">\n",
       "      <th></th>\n",
       "      <th>country</th>\n",
       "      <th>language</th>\n",
       "      <th>population</th>\n",
       "      <th>gdp</th>\n",
       "    </tr>\n",
       "  </thead>\n",
       "  <tbody>\n",
       "    <tr>\n",
       "      <th>af</th>\n",
       "      <td>Afghanistan</td>\n",
       "      <td>Pushto</td>\n",
       "      <td>10</td>\n",
       "      <td>100</td>\n",
       "    </tr>\n",
       "    <tr>\n",
       "      <th>uk</th>\n",
       "      <td>United Kingdom</td>\n",
       "      <td>English</td>\n",
       "      <td>20</td>\n",
       "      <td>200</td>\n",
       "    </tr>\n",
       "    <tr>\n",
       "      <th>jp</th>\n",
       "      <td>Japan</td>\n",
       "      <td>Japanese</td>\n",
       "      <td>30</td>\n",
       "      <td>300</td>\n",
       "    </tr>\n",
       "    <tr>\n",
       "      <th>ch</th>\n",
       "      <td>China</td>\n",
       "      <td>Chinese</td>\n",
       "      <td>40</td>\n",
       "      <td>400</td>\n",
       "    </tr>\n",
       "    <tr>\n",
       "      <th>pk</th>\n",
       "      <td>Pakistan</td>\n",
       "      <td>Urdu</td>\n",
       "      <td>50</td>\n",
       "      <td>500</td>\n",
       "    </tr>\n",
       "    <tr>\n",
       "      <th>ind</th>\n",
       "      <td>India</td>\n",
       "      <td>Hindi</td>\n",
       "      <td>60</td>\n",
       "      <td>600</td>\n",
       "    </tr>\n",
       "  </tbody>\n",
       "</table>\n",
       "</div>"
      ],
      "text/plain": [
       "            country  language  population  gdp\n",
       "af      Afghanistan    Pushto          10  100\n",
       "uk   United Kingdom   English          20  200\n",
       "jp            Japan  Japanese          30  300\n",
       "ch            China   Chinese          40  400\n",
       "pk         Pakistan      Urdu          50  500\n",
       "ind           India     Hindi          60  600"
      ]
     },
     "execution_count": 49,
     "metadata": {},
     "output_type": "execute_result"
    }
   ],
   "source": [
    "df.loc[:, 'country':'gdp']     # DataFrame object. Both : must be enclosed in signle square brackets."
   ]
  },
  {
   "cell_type": "markdown",
   "id": "0f59e689-8f46-4f56-9531-0a50944c8236",
   "metadata": {},
   "source": [
    "### 2.3. Rows and Columns both:"
   ]
  },
  {
   "cell_type": "code",
   "execution_count": 50,
   "id": "d56b3be5-1aa1-4933-ad2b-4aea0860c229",
   "metadata": {},
   "outputs": [
    {
     "data": {
      "text/plain": [
       "'Afghanistan'"
      ]
     },
     "execution_count": 50,
     "metadata": {},
     "output_type": "execute_result"
    }
   ],
   "source": [
    "df.loc['af', 'country']    # String object. Seperating comma."
   ]
  },
  {
   "cell_type": "code",
   "execution_count": 51,
   "id": "f3f7140f-75d2-4f8d-964b-3ee5a0d97559",
   "metadata": {},
   "outputs": [
    {
     "data": {
      "text/plain": [
       "country    Afghanistan\n",
       "Name: af, dtype: object"
      ]
     },
     "execution_count": 51,
     "metadata": {},
     "output_type": "execute_result"
    }
   ],
   "source": [
    "df.loc['af', ['country']]   # Series object."
   ]
  },
  {
   "cell_type": "code",
   "execution_count": 52,
   "id": "86db3321-fa66-4ccc-a54b-06eb78116ac3",
   "metadata": {},
   "outputs": [
    {
     "data": {
      "text/plain": [
       "af    Afghanistan\n",
       "Name: country, dtype: object"
      ]
     },
     "execution_count": 52,
     "metadata": {},
     "output_type": "execute_result"
    }
   ],
   "source": [
    "df.loc[['af'], 'country']   # Series object"
   ]
  },
  {
   "cell_type": "code",
   "execution_count": 53,
   "id": "c53549f8-61fc-4259-8634-e85c5ca761e9",
   "metadata": {},
   "outputs": [
    {
     "data": {
      "text/html": [
       "<div>\n",
       "<style scoped>\n",
       "    .dataframe tbody tr th:only-of-type {\n",
       "        vertical-align: middle;\n",
       "    }\n",
       "\n",
       "    .dataframe tbody tr th {\n",
       "        vertical-align: top;\n",
       "    }\n",
       "\n",
       "    .dataframe thead th {\n",
       "        text-align: right;\n",
       "    }\n",
       "</style>\n",
       "<table border=\"1\" class=\"dataframe\">\n",
       "  <thead>\n",
       "    <tr style=\"text-align: right;\">\n",
       "      <th></th>\n",
       "      <th>country</th>\n",
       "    </tr>\n",
       "  </thead>\n",
       "  <tbody>\n",
       "    <tr>\n",
       "      <th>af</th>\n",
       "      <td>Afghanistan</td>\n",
       "    </tr>\n",
       "  </tbody>\n",
       "</table>\n",
       "</div>"
      ],
      "text/plain": [
       "        country\n",
       "af  Afghanistan"
      ]
     },
     "execution_count": 53,
     "metadata": {},
     "output_type": "execute_result"
    }
   ],
   "source": [
    "df.loc[['af'], ['country']]  # DataFrame object."
   ]
  },
  {
   "cell_type": "code",
   "execution_count": 54,
   "id": "35db46a2-f289-46bb-b585-4eb1b5106869",
   "metadata": {},
   "outputs": [
    {
     "data": {
      "text/html": [
       "<div>\n",
       "<style scoped>\n",
       "    .dataframe tbody tr th:only-of-type {\n",
       "        vertical-align: middle;\n",
       "    }\n",
       "\n",
       "    .dataframe tbody tr th {\n",
       "        vertical-align: top;\n",
       "    }\n",
       "\n",
       "    .dataframe thead th {\n",
       "        text-align: right;\n",
       "    }\n",
       "</style>\n",
       "<table border=\"1\" class=\"dataframe\">\n",
       "  <thead>\n",
       "    <tr style=\"text-align: right;\">\n",
       "      <th></th>\n",
       "      <th>country</th>\n",
       "      <th>gdp</th>\n",
       "    </tr>\n",
       "  </thead>\n",
       "  <tbody>\n",
       "    <tr>\n",
       "      <th>af</th>\n",
       "      <td>Afghanistan</td>\n",
       "      <td>100</td>\n",
       "    </tr>\n",
       "    <tr>\n",
       "      <th>ch</th>\n",
       "      <td>China</td>\n",
       "      <td>400</td>\n",
       "    </tr>\n",
       "    <tr>\n",
       "      <th>pk</th>\n",
       "      <td>Pakistan</td>\n",
       "      <td>500</td>\n",
       "    </tr>\n",
       "  </tbody>\n",
       "</table>\n",
       "</div>"
      ],
      "text/plain": [
       "        country  gdp\n",
       "af  Afghanistan  100\n",
       "ch        China  400\n",
       "pk     Pakistan  500"
      ]
     },
     "execution_count": 54,
     "metadata": {},
     "output_type": "execute_result"
    }
   ],
   "source": [
    "df.loc[['af', 'ch', 'pk'], ['country', 'gdp']] # Lists. DataFrame object."
   ]
  },
  {
   "cell_type": "code",
   "execution_count": 55,
   "id": "b362dbad-e47b-42df-b5f0-54312d4a47ae",
   "metadata": {},
   "outputs": [
    {
     "data": {
      "text/html": [
       "<div>\n",
       "<style scoped>\n",
       "    .dataframe tbody tr th:only-of-type {\n",
       "        vertical-align: middle;\n",
       "    }\n",
       "\n",
       "    .dataframe tbody tr th {\n",
       "        vertical-align: top;\n",
       "    }\n",
       "\n",
       "    .dataframe thead th {\n",
       "        text-align: right;\n",
       "    }\n",
       "</style>\n",
       "<table border=\"1\" class=\"dataframe\">\n",
       "  <thead>\n",
       "    <tr style=\"text-align: right;\">\n",
       "      <th></th>\n",
       "      <th>country</th>\n",
       "      <th>gdp</th>\n",
       "    </tr>\n",
       "  </thead>\n",
       "  <tbody>\n",
       "    <tr>\n",
       "      <th>af</th>\n",
       "      <td>Afghanistan</td>\n",
       "      <td>100</td>\n",
       "    </tr>\n",
       "    <tr>\n",
       "      <th>uk</th>\n",
       "      <td>United Kingdom</td>\n",
       "      <td>200</td>\n",
       "    </tr>\n",
       "    <tr>\n",
       "      <th>jp</th>\n",
       "      <td>Japan</td>\n",
       "      <td>300</td>\n",
       "    </tr>\n",
       "    <tr>\n",
       "      <th>ch</th>\n",
       "      <td>China</td>\n",
       "      <td>400</td>\n",
       "    </tr>\n",
       "  </tbody>\n",
       "</table>\n",
       "</div>"
      ],
      "text/plain": [
       "           country  gdp\n",
       "af     Afghanistan  100\n",
       "uk  United Kingdom  200\n",
       "jp           Japan  300\n",
       "ch           China  400"
      ]
     },
     "execution_count": 55,
     "metadata": {},
     "output_type": "execute_result"
    }
   ],
   "source": [
    "df.loc['af':'ch', ['country', 'gdp']]    # DataFrame object. The end inclusive."
   ]
  },
  {
   "cell_type": "code",
   "execution_count": 56,
   "id": "607cff74-c2b4-4b20-885b-5ccda8b41513",
   "metadata": {},
   "outputs": [
    {
     "data": {
      "text/html": [
       "<div>\n",
       "<style scoped>\n",
       "    .dataframe tbody tr th:only-of-type {\n",
       "        vertical-align: middle;\n",
       "    }\n",
       "\n",
       "    .dataframe tbody tr th {\n",
       "        vertical-align: top;\n",
       "    }\n",
       "\n",
       "    .dataframe thead th {\n",
       "        text-align: right;\n",
       "    }\n",
       "</style>\n",
       "<table border=\"1\" class=\"dataframe\">\n",
       "  <thead>\n",
       "    <tr style=\"text-align: right;\">\n",
       "      <th></th>\n",
       "      <th>country</th>\n",
       "      <th>language</th>\n",
       "      <th>population</th>\n",
       "      <th>gdp</th>\n",
       "    </tr>\n",
       "  </thead>\n",
       "  <tbody>\n",
       "    <tr>\n",
       "      <th>af</th>\n",
       "      <td>Afghanistan</td>\n",
       "      <td>Pushto</td>\n",
       "      <td>10</td>\n",
       "      <td>100</td>\n",
       "    </tr>\n",
       "    <tr>\n",
       "      <th>ch</th>\n",
       "      <td>China</td>\n",
       "      <td>Chinese</td>\n",
       "      <td>40</td>\n",
       "      <td>400</td>\n",
       "    </tr>\n",
       "  </tbody>\n",
       "</table>\n",
       "</div>"
      ],
      "text/plain": [
       "        country language  population  gdp\n",
       "af  Afghanistan   Pushto          10  100\n",
       "ch        China  Chinese          40  400"
      ]
     },
     "execution_count": 56,
     "metadata": {},
     "output_type": "execute_result"
    }
   ],
   "source": [
    "df.loc[['af', 'ch'], 'country':'gdp']    # DataFrame object. The end inclusive."
   ]
  },
  {
   "cell_type": "code",
   "execution_count": 57,
   "id": "6da592e6-46bd-4c31-9684-4b3805d14e04",
   "metadata": {},
   "outputs": [
    {
     "data": {
      "text/html": [
       "<div>\n",
       "<style scoped>\n",
       "    .dataframe tbody tr th:only-of-type {\n",
       "        vertical-align: middle;\n",
       "    }\n",
       "\n",
       "    .dataframe tbody tr th {\n",
       "        vertical-align: top;\n",
       "    }\n",
       "\n",
       "    .dataframe thead th {\n",
       "        text-align: right;\n",
       "    }\n",
       "</style>\n",
       "<table border=\"1\" class=\"dataframe\">\n",
       "  <thead>\n",
       "    <tr style=\"text-align: right;\">\n",
       "      <th></th>\n",
       "      <th>country</th>\n",
       "      <th>language</th>\n",
       "      <th>population</th>\n",
       "      <th>gdp</th>\n",
       "    </tr>\n",
       "  </thead>\n",
       "  <tbody>\n",
       "    <tr>\n",
       "      <th>af</th>\n",
       "      <td>Afghanistan</td>\n",
       "      <td>Pushto</td>\n",
       "      <td>10</td>\n",
       "      <td>100</td>\n",
       "    </tr>\n",
       "    <tr>\n",
       "      <th>uk</th>\n",
       "      <td>United Kingdom</td>\n",
       "      <td>English</td>\n",
       "      <td>20</td>\n",
       "      <td>200</td>\n",
       "    </tr>\n",
       "    <tr>\n",
       "      <th>jp</th>\n",
       "      <td>Japan</td>\n",
       "      <td>Japanese</td>\n",
       "      <td>30</td>\n",
       "      <td>300</td>\n",
       "    </tr>\n",
       "    <tr>\n",
       "      <th>ch</th>\n",
       "      <td>China</td>\n",
       "      <td>Chinese</td>\n",
       "      <td>40</td>\n",
       "      <td>400</td>\n",
       "    </tr>\n",
       "  </tbody>\n",
       "</table>\n",
       "</div>"
      ],
      "text/plain": [
       "           country  language  population  gdp\n",
       "af     Afghanistan    Pushto          10  100\n",
       "uk  United Kingdom   English          20  200\n",
       "jp           Japan  Japanese          30  300\n",
       "ch           China   Chinese          40  400"
      ]
     },
     "execution_count": 57,
     "metadata": {},
     "output_type": "execute_result"
    }
   ],
   "source": [
    "df.loc['af':'ch', 'country':'gdp']    # DataFrame object. The end inclusive."
   ]
  },
  {
   "cell_type": "markdown",
   "id": "c42af429-3fe9-4656-91d4-e491adfb7cd4",
   "metadata": {},
   "source": [
    "## 3. iloc: \n",
    "#### Integer index (position)-based only:"
   ]
  },
  {
   "cell_type": "markdown",
   "id": "d6d566ab-452b-47b9-bd7f-7fe9c09a1905",
   "metadata": {},
   "source": [
    "### 3.1. Rows only:"
   ]
  },
  {
   "cell_type": "code",
   "execution_count": 58,
   "id": "49fa21a2-0ec3-4063-ae3f-39ab7be22843",
   "metadata": {},
   "outputs": [
    {
     "data": {
      "text/plain": [
       "country       Afghanistan\n",
       "language           Pushto\n",
       "population             10\n",
       "gdp                   100\n",
       "continent            Asia\n",
       "Name: af, dtype: object"
      ]
     },
     "execution_count": 58,
     "metadata": {},
     "output_type": "execute_result"
    }
   ],
   "source": [
    "df.iloc[0]     # Series object."
   ]
  },
  {
   "cell_type": "code",
   "execution_count": 59,
   "id": "ec97563c-4ff6-42b9-95f7-530de0be5108",
   "metadata": {},
   "outputs": [
    {
     "data": {
      "text/html": [
       "<div>\n",
       "<style scoped>\n",
       "    .dataframe tbody tr th:only-of-type {\n",
       "        vertical-align: middle;\n",
       "    }\n",
       "\n",
       "    .dataframe tbody tr th {\n",
       "        vertical-align: top;\n",
       "    }\n",
       "\n",
       "    .dataframe thead th {\n",
       "        text-align: right;\n",
       "    }\n",
       "</style>\n",
       "<table border=\"1\" class=\"dataframe\">\n",
       "  <thead>\n",
       "    <tr style=\"text-align: right;\">\n",
       "      <th></th>\n",
       "      <th>country</th>\n",
       "      <th>language</th>\n",
       "      <th>population</th>\n",
       "      <th>gdp</th>\n",
       "      <th>continent</th>\n",
       "    </tr>\n",
       "  </thead>\n",
       "  <tbody>\n",
       "    <tr>\n",
       "      <th>af</th>\n",
       "      <td>Afghanistan</td>\n",
       "      <td>Pushto</td>\n",
       "      <td>10</td>\n",
       "      <td>100</td>\n",
       "      <td>Asia</td>\n",
       "    </tr>\n",
       "  </tbody>\n",
       "</table>\n",
       "</div>"
      ],
      "text/plain": [
       "        country language  population  gdp continent\n",
       "af  Afghanistan   Pushto          10  100      Asia"
      ]
     },
     "execution_count": 59,
     "metadata": {},
     "output_type": "execute_result"
    }
   ],
   "source": [
    "df.iloc[[0]]    # DataFrame object. No column argument."
   ]
  },
  {
   "cell_type": "code",
   "execution_count": 60,
   "id": "2c91f5db-52b6-419c-a81a-3e60ce884f02",
   "metadata": {},
   "outputs": [
    {
     "data": {
      "text/html": [
       "<div>\n",
       "<style scoped>\n",
       "    .dataframe tbody tr th:only-of-type {\n",
       "        vertical-align: middle;\n",
       "    }\n",
       "\n",
       "    .dataframe tbody tr th {\n",
       "        vertical-align: top;\n",
       "    }\n",
       "\n",
       "    .dataframe thead th {\n",
       "        text-align: right;\n",
       "    }\n",
       "</style>\n",
       "<table border=\"1\" class=\"dataframe\">\n",
       "  <thead>\n",
       "    <tr style=\"text-align: right;\">\n",
       "      <th></th>\n",
       "      <th>country</th>\n",
       "      <th>language</th>\n",
       "      <th>population</th>\n",
       "      <th>gdp</th>\n",
       "      <th>continent</th>\n",
       "    </tr>\n",
       "  </thead>\n",
       "  <tbody>\n",
       "    <tr>\n",
       "      <th>af</th>\n",
       "      <td>Afghanistan</td>\n",
       "      <td>Pushto</td>\n",
       "      <td>10</td>\n",
       "      <td>100</td>\n",
       "      <td>Asia</td>\n",
       "    </tr>\n",
       "    <tr>\n",
       "      <th>jp</th>\n",
       "      <td>Japan</td>\n",
       "      <td>Japanese</td>\n",
       "      <td>30</td>\n",
       "      <td>300</td>\n",
       "      <td>East Asia</td>\n",
       "    </tr>\n",
       "    <tr>\n",
       "      <th>ch</th>\n",
       "      <td>China</td>\n",
       "      <td>Chinese</td>\n",
       "      <td>40</td>\n",
       "      <td>400</td>\n",
       "      <td>East Asia</td>\n",
       "    </tr>\n",
       "  </tbody>\n",
       "</table>\n",
       "</div>"
      ],
      "text/plain": [
       "        country  language  population  gdp  continent\n",
       "af  Afghanistan    Pushto          10  100       Asia\n",
       "jp        Japan  Japanese          30  300  East Asia\n",
       "ch        China   Chinese          40  400  East Asia"
      ]
     },
     "execution_count": 60,
     "metadata": {},
     "output_type": "execute_result"
    }
   ],
   "source": [
    "df.iloc[[0, 2, 3]]   # List. DataFrame object."
   ]
  },
  {
   "cell_type": "code",
   "execution_count": 61,
   "id": "f6685d0f-23b7-4a61-8a64-08defaab26f4",
   "metadata": {},
   "outputs": [
    {
     "data": {
      "text/html": [
       "<div>\n",
       "<style scoped>\n",
       "    .dataframe tbody tr th:only-of-type {\n",
       "        vertical-align: middle;\n",
       "    }\n",
       "\n",
       "    .dataframe tbody tr th {\n",
       "        vertical-align: top;\n",
       "    }\n",
       "\n",
       "    .dataframe thead th {\n",
       "        text-align: right;\n",
       "    }\n",
       "</style>\n",
       "<table border=\"1\" class=\"dataframe\">\n",
       "  <thead>\n",
       "    <tr style=\"text-align: right;\">\n",
       "      <th></th>\n",
       "      <th>country</th>\n",
       "      <th>language</th>\n",
       "      <th>population</th>\n",
       "      <th>gdp</th>\n",
       "      <th>continent</th>\n",
       "    </tr>\n",
       "  </thead>\n",
       "  <tbody>\n",
       "    <tr>\n",
       "      <th>uk</th>\n",
       "      <td>United Kingdom</td>\n",
       "      <td>English</td>\n",
       "      <td>20</td>\n",
       "      <td>200</td>\n",
       "      <td>Europe</td>\n",
       "    </tr>\n",
       "    <tr>\n",
       "      <th>jp</th>\n",
       "      <td>Japan</td>\n",
       "      <td>Japanese</td>\n",
       "      <td>30</td>\n",
       "      <td>300</td>\n",
       "      <td>East Asia</td>\n",
       "    </tr>\n",
       "    <tr>\n",
       "      <th>ch</th>\n",
       "      <td>China</td>\n",
       "      <td>Chinese</td>\n",
       "      <td>40</td>\n",
       "      <td>400</td>\n",
       "      <td>East Asia</td>\n",
       "    </tr>\n",
       "  </tbody>\n",
       "</table>\n",
       "</div>"
      ],
      "text/plain": [
       "           country  language  population  gdp  continent\n",
       "uk  United Kingdom   English          20  200     Europe\n",
       "jp           Japan  Japanese          30  300  East Asia\n",
       "ch           China   Chinese          40  400  East Asia"
      ]
     },
     "execution_count": 61,
     "metadata": {},
     "output_type": "execute_result"
    }
   ],
   "source": [
    "df.iloc[1:4]   # DataFrame object. The end exclusive."
   ]
  },
  {
   "cell_type": "markdown",
   "id": "6120b595-d413-41fa-8aaf-f9267157efd1",
   "metadata": {},
   "source": [
    "### 3.2. Columns only:"
   ]
  },
  {
   "cell_type": "code",
   "execution_count": 62,
   "id": "d105ee5f-b855-43e5-b6f9-d5bb9b40bb8a",
   "metadata": {},
   "outputs": [
    {
     "data": {
      "text/plain": [
       "af        Afghanistan\n",
       "uk     United Kingdom\n",
       "jp              Japan\n",
       "ch              China\n",
       "pk           Pakistan\n",
       "ind             India\n",
       "Name: country, dtype: object"
      ]
     },
     "execution_count": 62,
     "metadata": {},
     "output_type": "execute_result"
    }
   ],
   "source": [
    "df.iloc[:, 0]      # Series objects. For columns, row argument (:) is requried. Seperating comma."
   ]
  },
  {
   "cell_type": "code",
   "execution_count": 63,
   "id": "4938428c-79fc-4dad-8e70-bc9b17fc566e",
   "metadata": {},
   "outputs": [
    {
     "data": {
      "text/html": [
       "<div>\n",
       "<style scoped>\n",
       "    .dataframe tbody tr th:only-of-type {\n",
       "        vertical-align: middle;\n",
       "    }\n",
       "\n",
       "    .dataframe tbody tr th {\n",
       "        vertical-align: top;\n",
       "    }\n",
       "\n",
       "    .dataframe thead th {\n",
       "        text-align: right;\n",
       "    }\n",
       "</style>\n",
       "<table border=\"1\" class=\"dataframe\">\n",
       "  <thead>\n",
       "    <tr style=\"text-align: right;\">\n",
       "      <th></th>\n",
       "      <th>country</th>\n",
       "    </tr>\n",
       "  </thead>\n",
       "  <tbody>\n",
       "    <tr>\n",
       "      <th>af</th>\n",
       "      <td>Afghanistan</td>\n",
       "    </tr>\n",
       "    <tr>\n",
       "      <th>uk</th>\n",
       "      <td>United Kingdom</td>\n",
       "    </tr>\n",
       "    <tr>\n",
       "      <th>jp</th>\n",
       "      <td>Japan</td>\n",
       "    </tr>\n",
       "    <tr>\n",
       "      <th>ch</th>\n",
       "      <td>China</td>\n",
       "    </tr>\n",
       "    <tr>\n",
       "      <th>pk</th>\n",
       "      <td>Pakistan</td>\n",
       "    </tr>\n",
       "    <tr>\n",
       "      <th>ind</th>\n",
       "      <td>India</td>\n",
       "    </tr>\n",
       "  </tbody>\n",
       "</table>\n",
       "</div>"
      ],
      "text/plain": [
       "            country\n",
       "af      Afghanistan\n",
       "uk   United Kingdom\n",
       "jp            Japan\n",
       "ch            China\n",
       "pk         Pakistan\n",
       "ind           India"
      ]
     },
     "execution_count": 63,
     "metadata": {},
     "output_type": "execute_result"
    }
   ],
   "source": [
    "df.iloc[:, [0]]     # DataFrame object."
   ]
  },
  {
   "cell_type": "code",
   "execution_count": 64,
   "id": "a3b28b3d-4b79-461f-9180-d68a01eb7c40",
   "metadata": {},
   "outputs": [
    {
     "data": {
      "text/html": [
       "<div>\n",
       "<style scoped>\n",
       "    .dataframe tbody tr th:only-of-type {\n",
       "        vertical-align: middle;\n",
       "    }\n",
       "\n",
       "    .dataframe tbody tr th {\n",
       "        vertical-align: top;\n",
       "    }\n",
       "\n",
       "    .dataframe thead th {\n",
       "        text-align: right;\n",
       "    }\n",
       "</style>\n",
       "<table border=\"1\" class=\"dataframe\">\n",
       "  <thead>\n",
       "    <tr style=\"text-align: right;\">\n",
       "      <th></th>\n",
       "      <th>country</th>\n",
       "      <th>continent</th>\n",
       "    </tr>\n",
       "  </thead>\n",
       "  <tbody>\n",
       "    <tr>\n",
       "      <th>af</th>\n",
       "      <td>Afghanistan</td>\n",
       "      <td>Asia</td>\n",
       "    </tr>\n",
       "    <tr>\n",
       "      <th>uk</th>\n",
       "      <td>United Kingdom</td>\n",
       "      <td>Europe</td>\n",
       "    </tr>\n",
       "    <tr>\n",
       "      <th>jp</th>\n",
       "      <td>Japan</td>\n",
       "      <td>East Asia</td>\n",
       "    </tr>\n",
       "    <tr>\n",
       "      <th>ch</th>\n",
       "      <td>China</td>\n",
       "      <td>East Asia</td>\n",
       "    </tr>\n",
       "    <tr>\n",
       "      <th>pk</th>\n",
       "      <td>Pakistan</td>\n",
       "      <td>Asia</td>\n",
       "    </tr>\n",
       "    <tr>\n",
       "      <th>ind</th>\n",
       "      <td>India</td>\n",
       "      <td>Asia</td>\n",
       "    </tr>\n",
       "  </tbody>\n",
       "</table>\n",
       "</div>"
      ],
      "text/plain": [
       "            country  continent\n",
       "af      Afghanistan       Asia\n",
       "uk   United Kingdom     Europe\n",
       "jp            Japan  East Asia\n",
       "ch            China  East Asia\n",
       "pk         Pakistan       Asia\n",
       "ind           India       Asia"
      ]
     },
     "execution_count": 64,
     "metadata": {},
     "output_type": "execute_result"
    }
   ],
   "source": [
    "df.iloc[:, [0, 4]]   # List. DataFrame object."
   ]
  },
  {
   "cell_type": "code",
   "execution_count": 65,
   "id": "0524fa37-e480-4d78-b674-2e9224a32961",
   "metadata": {},
   "outputs": [
    {
     "data": {
      "text/html": [
       "<div>\n",
       "<style scoped>\n",
       "    .dataframe tbody tr th:only-of-type {\n",
       "        vertical-align: middle;\n",
       "    }\n",
       "\n",
       "    .dataframe tbody tr th {\n",
       "        vertical-align: top;\n",
       "    }\n",
       "\n",
       "    .dataframe thead th {\n",
       "        text-align: right;\n",
       "    }\n",
       "</style>\n",
       "<table border=\"1\" class=\"dataframe\">\n",
       "  <thead>\n",
       "    <tr style=\"text-align: right;\">\n",
       "      <th></th>\n",
       "      <th>country</th>\n",
       "      <th>language</th>\n",
       "      <th>population</th>\n",
       "      <th>gdp</th>\n",
       "    </tr>\n",
       "  </thead>\n",
       "  <tbody>\n",
       "    <tr>\n",
       "      <th>af</th>\n",
       "      <td>Afghanistan</td>\n",
       "      <td>Pushto</td>\n",
       "      <td>10</td>\n",
       "      <td>100</td>\n",
       "    </tr>\n",
       "    <tr>\n",
       "      <th>uk</th>\n",
       "      <td>United Kingdom</td>\n",
       "      <td>English</td>\n",
       "      <td>20</td>\n",
       "      <td>200</td>\n",
       "    </tr>\n",
       "    <tr>\n",
       "      <th>jp</th>\n",
       "      <td>Japan</td>\n",
       "      <td>Japanese</td>\n",
       "      <td>30</td>\n",
       "      <td>300</td>\n",
       "    </tr>\n",
       "    <tr>\n",
       "      <th>ch</th>\n",
       "      <td>China</td>\n",
       "      <td>Chinese</td>\n",
       "      <td>40</td>\n",
       "      <td>400</td>\n",
       "    </tr>\n",
       "    <tr>\n",
       "      <th>pk</th>\n",
       "      <td>Pakistan</td>\n",
       "      <td>Urdu</td>\n",
       "      <td>50</td>\n",
       "      <td>500</td>\n",
       "    </tr>\n",
       "    <tr>\n",
       "      <th>ind</th>\n",
       "      <td>India</td>\n",
       "      <td>Hindi</td>\n",
       "      <td>60</td>\n",
       "      <td>600</td>\n",
       "    </tr>\n",
       "  </tbody>\n",
       "</table>\n",
       "</div>"
      ],
      "text/plain": [
       "            country  language  population  gdp\n",
       "af      Afghanistan    Pushto          10  100\n",
       "uk   United Kingdom   English          20  200\n",
       "jp            Japan  Japanese          30  300\n",
       "ch            China   Chinese          40  400\n",
       "pk         Pakistan      Urdu          50  500\n",
       "ind           India     Hindi          60  600"
      ]
     },
     "execution_count": 65,
     "metadata": {},
     "output_type": "execute_result"
    }
   ],
   "source": [
    "df.iloc[:, 0:4]   # DataFrame object. The end exclusive."
   ]
  },
  {
   "cell_type": "markdown",
   "id": "534d1c65-883d-47f8-9e69-38f1309aef69",
   "metadata": {},
   "source": [
    "### 3.3. Rows and Columns Both:"
   ]
  },
  {
   "cell_type": "code",
   "execution_count": 66,
   "id": "48cfa2ce-c2e1-4938-82ac-c2711474c97b",
   "metadata": {},
   "outputs": [
    {
     "data": {
      "text/plain": [
       "'Pushto'"
      ]
     },
     "execution_count": 66,
     "metadata": {},
     "output_type": "execute_result"
    }
   ],
   "source": [
    "df.iloc[0, 1]    # String object. Seperating comma."
   ]
  },
  {
   "cell_type": "code",
   "execution_count": 67,
   "id": "cf1b4406-4d96-4568-8a41-7762435f5a52",
   "metadata": {},
   "outputs": [
    {
     "name": "stdout",
     "output_type": "stream",
     "text": [
      "<class 'str'>\n"
     ]
    }
   ],
   "source": [
    "print(type(df.iloc[0, 1]))"
   ]
  },
  {
   "cell_type": "code",
   "execution_count": 68,
   "id": "3cceaeec-075b-43ae-b518-78fdec0e4629",
   "metadata": {},
   "outputs": [
    {
     "data": {
      "text/plain": [
       "language    Pushto\n",
       "Name: af, dtype: object"
      ]
     },
     "execution_count": 68,
     "metadata": {},
     "output_type": "execute_result"
    }
   ],
   "source": [
    "df.iloc[0, [1]] # Series object."
   ]
  },
  {
   "cell_type": "code",
   "execution_count": 69,
   "id": "bb38af13-9f01-4756-a2eb-0e2152249f5c",
   "metadata": {},
   "outputs": [
    {
     "data": {
      "text/plain": [
       "af    Pushto\n",
       "Name: language, dtype: object"
      ]
     },
     "execution_count": 69,
     "metadata": {},
     "output_type": "execute_result"
    }
   ],
   "source": [
    "df.iloc[[0], 1]   # Series object."
   ]
  },
  {
   "cell_type": "code",
   "execution_count": 70,
   "id": "dfc886bc-05a6-43cd-9bce-086ca983f45e",
   "metadata": {},
   "outputs": [
    {
     "data": {
      "text/html": [
       "<div>\n",
       "<style scoped>\n",
       "    .dataframe tbody tr th:only-of-type {\n",
       "        vertical-align: middle;\n",
       "    }\n",
       "\n",
       "    .dataframe tbody tr th {\n",
       "        vertical-align: top;\n",
       "    }\n",
       "\n",
       "    .dataframe thead th {\n",
       "        text-align: right;\n",
       "    }\n",
       "</style>\n",
       "<table border=\"1\" class=\"dataframe\">\n",
       "  <thead>\n",
       "    <tr style=\"text-align: right;\">\n",
       "      <th></th>\n",
       "      <th>language</th>\n",
       "    </tr>\n",
       "  </thead>\n",
       "  <tbody>\n",
       "    <tr>\n",
       "      <th>af</th>\n",
       "      <td>Pushto</td>\n",
       "    </tr>\n",
       "  </tbody>\n",
       "</table>\n",
       "</div>"
      ],
      "text/plain": [
       "   language\n",
       "af   Pushto"
      ]
     },
     "execution_count": 70,
     "metadata": {},
     "output_type": "execute_result"
    }
   ],
   "source": [
    "df.iloc[[0], [1]]   # DataFrame object."
   ]
  },
  {
   "cell_type": "code",
   "execution_count": 71,
   "id": "bf39e123-b48b-4138-ac14-ed9aef12904a",
   "metadata": {},
   "outputs": [
    {
     "data": {
      "text/html": [
       "<div>\n",
       "<style scoped>\n",
       "    .dataframe tbody tr th:only-of-type {\n",
       "        vertical-align: middle;\n",
       "    }\n",
       "\n",
       "    .dataframe tbody tr th {\n",
       "        vertical-align: top;\n",
       "    }\n",
       "\n",
       "    .dataframe thead th {\n",
       "        text-align: right;\n",
       "    }\n",
       "</style>\n",
       "<table border=\"1\" class=\"dataframe\">\n",
       "  <thead>\n",
       "    <tr style=\"text-align: right;\">\n",
       "      <th></th>\n",
       "      <th>country</th>\n",
       "      <th>continent</th>\n",
       "    </tr>\n",
       "  </thead>\n",
       "  <tbody>\n",
       "    <tr>\n",
       "      <th>af</th>\n",
       "      <td>Afghanistan</td>\n",
       "      <td>Asia</td>\n",
       "    </tr>\n",
       "    <tr>\n",
       "      <th>jp</th>\n",
       "      <td>Japan</td>\n",
       "      <td>East Asia</td>\n",
       "    </tr>\n",
       "    <tr>\n",
       "      <th>ch</th>\n",
       "      <td>China</td>\n",
       "      <td>East Asia</td>\n",
       "    </tr>\n",
       "  </tbody>\n",
       "</table>\n",
       "</div>"
      ],
      "text/plain": [
       "        country  continent\n",
       "af  Afghanistan       Asia\n",
       "jp        Japan  East Asia\n",
       "ch        China  East Asia"
      ]
     },
     "execution_count": 71,
     "metadata": {},
     "output_type": "execute_result"
    }
   ],
   "source": [
    "df.iloc[[0, 2, 3], [0, 4]]   # Lists to avoid confusion in seperating comma for rows & columns. DataFrame\n",
    "                             # object."
   ]
  },
  {
   "cell_type": "code",
   "execution_count": 72,
   "id": "b9e13f7e-d894-4a33-bed7-305a3290c67e",
   "metadata": {},
   "outputs": [
    {
     "data": {
      "text/html": [
       "<div>\n",
       "<style scoped>\n",
       "    .dataframe tbody tr th:only-of-type {\n",
       "        vertical-align: middle;\n",
       "    }\n",
       "\n",
       "    .dataframe tbody tr th {\n",
       "        vertical-align: top;\n",
       "    }\n",
       "\n",
       "    .dataframe thead th {\n",
       "        text-align: right;\n",
       "    }\n",
       "</style>\n",
       "<table border=\"1\" class=\"dataframe\">\n",
       "  <thead>\n",
       "    <tr style=\"text-align: right;\">\n",
       "      <th></th>\n",
       "      <th>country</th>\n",
       "      <th>continent</th>\n",
       "    </tr>\n",
       "  </thead>\n",
       "  <tbody>\n",
       "    <tr>\n",
       "      <th>af</th>\n",
       "      <td>Afghanistan</td>\n",
       "      <td>Asia</td>\n",
       "    </tr>\n",
       "    <tr>\n",
       "      <th>uk</th>\n",
       "      <td>United Kingdom</td>\n",
       "      <td>Europe</td>\n",
       "    </tr>\n",
       "    <tr>\n",
       "      <th>jp</th>\n",
       "      <td>Japan</td>\n",
       "      <td>East Asia</td>\n",
       "    </tr>\n",
       "    <tr>\n",
       "      <th>ch</th>\n",
       "      <td>China</td>\n",
       "      <td>East Asia</td>\n",
       "    </tr>\n",
       "  </tbody>\n",
       "</table>\n",
       "</div>"
      ],
      "text/plain": [
       "           country  continent\n",
       "af     Afghanistan       Asia\n",
       "uk  United Kingdom     Europe\n",
       "jp           Japan  East Asia\n",
       "ch           China  East Asia"
      ]
     },
     "execution_count": 72,
     "metadata": {},
     "output_type": "execute_result"
    }
   ],
   "source": [
    "df.iloc[0:4, [0, 4]]   # DataFrame object. The end is exclusive."
   ]
  },
  {
   "cell_type": "code",
   "execution_count": 73,
   "id": "ee2d1fc7-7979-431c-bc45-1f18da0ae24a",
   "metadata": {},
   "outputs": [
    {
     "data": {
      "text/html": [
       "<div>\n",
       "<style scoped>\n",
       "    .dataframe tbody tr th:only-of-type {\n",
       "        vertical-align: middle;\n",
       "    }\n",
       "\n",
       "    .dataframe tbody tr th {\n",
       "        vertical-align: top;\n",
       "    }\n",
       "\n",
       "    .dataframe thead th {\n",
       "        text-align: right;\n",
       "    }\n",
       "</style>\n",
       "<table border=\"1\" class=\"dataframe\">\n",
       "  <thead>\n",
       "    <tr style=\"text-align: right;\">\n",
       "      <th></th>\n",
       "      <th>country</th>\n",
       "      <th>language</th>\n",
       "      <th>population</th>\n",
       "      <th>gdp</th>\n",
       "    </tr>\n",
       "  </thead>\n",
       "  <tbody>\n",
       "    <tr>\n",
       "      <th>af</th>\n",
       "      <td>Afghanistan</td>\n",
       "      <td>Pushto</td>\n",
       "      <td>10</td>\n",
       "      <td>100</td>\n",
       "    </tr>\n",
       "    <tr>\n",
       "      <th>pk</th>\n",
       "      <td>Pakistan</td>\n",
       "      <td>Urdu</td>\n",
       "      <td>50</td>\n",
       "      <td>500</td>\n",
       "    </tr>\n",
       "  </tbody>\n",
       "</table>\n",
       "</div>"
      ],
      "text/plain": [
       "        country language  population  gdp\n",
       "af  Afghanistan   Pushto          10  100\n",
       "pk     Pakistan     Urdu          50  500"
      ]
     },
     "execution_count": 73,
     "metadata": {},
     "output_type": "execute_result"
    }
   ],
   "source": [
    "df.iloc[[0, 4], 0:4]  # DataFrame object. The end is exclusive."
   ]
  },
  {
   "cell_type": "code",
   "execution_count": 74,
   "id": "d72fedcb-b072-4527-8fbc-9ce22ff682c6",
   "metadata": {},
   "outputs": [
    {
     "data": {
      "text/html": [
       "<div>\n",
       "<style scoped>\n",
       "    .dataframe tbody tr th:only-of-type {\n",
       "        vertical-align: middle;\n",
       "    }\n",
       "\n",
       "    .dataframe tbody tr th {\n",
       "        vertical-align: top;\n",
       "    }\n",
       "\n",
       "    .dataframe thead th {\n",
       "        text-align: right;\n",
       "    }\n",
       "</style>\n",
       "<table border=\"1\" class=\"dataframe\">\n",
       "  <thead>\n",
       "    <tr style=\"text-align: right;\">\n",
       "      <th></th>\n",
       "      <th>country</th>\n",
       "      <th>language</th>\n",
       "      <th>population</th>\n",
       "      <th>gdp</th>\n",
       "    </tr>\n",
       "  </thead>\n",
       "  <tbody>\n",
       "    <tr>\n",
       "      <th>af</th>\n",
       "      <td>Afghanistan</td>\n",
       "      <td>Pushto</td>\n",
       "      <td>10</td>\n",
       "      <td>100</td>\n",
       "    </tr>\n",
       "    <tr>\n",
       "      <th>uk</th>\n",
       "      <td>United Kingdom</td>\n",
       "      <td>English</td>\n",
       "      <td>20</td>\n",
       "      <td>200</td>\n",
       "    </tr>\n",
       "    <tr>\n",
       "      <th>jp</th>\n",
       "      <td>Japan</td>\n",
       "      <td>Japanese</td>\n",
       "      <td>30</td>\n",
       "      <td>300</td>\n",
       "    </tr>\n",
       "    <tr>\n",
       "      <th>ch</th>\n",
       "      <td>China</td>\n",
       "      <td>Chinese</td>\n",
       "      <td>40</td>\n",
       "      <td>400</td>\n",
       "    </tr>\n",
       "  </tbody>\n",
       "</table>\n",
       "</div>"
      ],
      "text/plain": [
       "           country  language  population  gdp\n",
       "af     Afghanistan    Pushto          10  100\n",
       "uk  United Kingdom   English          20  200\n",
       "jp           Japan  Japanese          30  300\n",
       "ch           China   Chinese          40  400"
      ]
     },
     "execution_count": 74,
     "metadata": {},
     "output_type": "execute_result"
    }
   ],
   "source": [
    "df.iloc[0:4, 0:4]    # DataFrame object. The ends are exclusive."
   ]
  },
  {
   "cell_type": "code",
   "execution_count": null,
   "id": "565204d9-e4f6-4dd3-a4c7-53822eac436e",
   "metadata": {},
   "outputs": [],
   "source": []
  }
 ],
 "metadata": {
  "kernelspec": {
   "display_name": "Python 3 (ipykernel)",
   "language": "python",
   "name": "python3"
  },
  "language_info": {
   "codemirror_mode": {
    "name": "ipython",
    "version": 3
   },
   "file_extension": ".py",
   "mimetype": "text/x-python",
   "name": "python",
   "nbconvert_exporter": "python",
   "pygments_lexer": "ipython3",
   "version": "3.10.0"
  }
 },
 "nbformat": 4,
 "nbformat_minor": 5
}
